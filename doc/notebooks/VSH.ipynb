{
 "metadata": {
  "name": "VSH"
 },
 "nbformat": 3,
 "nbformat_minor": 0,
 "worksheets": [
  {
   "cells": [
    {
     "cell_type": "markdown",
     "metadata": {},
     "source": [
      "# Vector Spherical Harmonics"
     ]
    },
    {
     "cell_type": "markdown",
     "metadata": {},
     "source": [
      " \n",
      "In a first step the VSH coefficients are calculated from raw data describing the full sampled complex radiation pattern over the whole sphere and for the two orthogonal linear polarizations. \n",
      "\n",
      "This step can be done once off-line to build an antenna database which exploits the sparse VSH decomposition.\n",
      "\n",
      "$$\n",
      "S_1 : \\mathbb{C}^{2 \\times N_{\\theta} \\times N_{\\phi} \\times N_{f}}\n",
      "\\rightarrow\n",
      "\\mathbb{C}^{4 \\times N_{c} }\n",
      "$$ \n",
      "\n",
      "In a second step field quantities are generated from the VSH coefficients for a given set of directions corresponding to the DOD/DOA of the rays coming out the RT engine.\n",
      "\n",
      "$$\n",
      "S_2 : \\mathbb{C}^{4 \\times N_{c} }\n",
      "\\rightarrow\n",
      "\\mathbb{C}^{2 \\times N_{r} \\times N_{f}}\n",
      "$$ "
     ]
    },
    {
     "cell_type": "markdown",
     "metadata": {},
     "source": [
      "One of the interest in doing this decomposition comes from the fact that the\n",
      "number of directions of interest $N_r$ is by far lower than the number required\n",
      "for the exhaustive sampling of the sphere needed at the starting point of the\n",
      "synthesis step. In practice, for a given channel, we do not need to calculate\n",
      "the field in all directions but only for a limited number of them. The\n",
      "alternative approach would consist in going through an interpolation procedure\n",
      "into the initial data structure, what could be either slower if the grid is\n",
      "tight or poorly accurate.\n",
      "\n",
      "\n",
      "We are dealing with a set of complex quantities that belongs to  \n",
      "where $N_{\\theta}$,$N_{\\phi}$,$N_f$ states respectively for the number of angle $\\theta$ $\\phi$ and frequency point. In practice in a ray tracing tool a direction of\n",
      "$$\\mathbb{C}^{2 \\times N_{r} \\times N_{f}}$$ \n",
      "$N_r$ is the number of rays. \n",
      "\n",
      "$$\n",
      "% use packages: array\n",
      "\\mathbf{F}(f,\\theta,\\phi) =\n",
      "\\left[\n",
      "\\begin{array}{l} \n",
      "F_{\\theta}(f,\\theta,\\phi)\\\\ \n",
      "F_{\\phi}(f,\\theta,\\phi)\n",
      "\\end{array}\n",
      "\\right]\n",
      "$$"
     ]
    },
    {
     "cell_type": "heading",
     "level": 2,
     "metadata": {},
     "source": [
      "Vector spherical Harmonics function"
     ]
    },
    {
     "cell_type": "markdown",
     "metadata": {},
     "source": [
      "The vector spherical harmonics are based on the function $\\bar{V}_l^{(m)}$ and $\\bar{W}_l^{(m)}$\n",
      "\n",
      "$$\n",
      "\\bar{V}_l^{(m)}(x)=(-1)^{n} \\frac{\\sqrt{1-x^2}}{\\sqrt{l(l+1)}}\\bar{P}_l^{(m)'}(x)\n",
      "$$\n",
      "\n",
      "$$\n",
      "\\bar{V}_l^{(m)}(x)\n",
      "= \\frac{ (-1)^n } {  2\\sqrt{l(l+1) } }\n",
      "  \\left( \n",
      "  \\sqrt{(l+m)(l-m+1)} \\bar{P}_l^{(m-1)}(x)\n",
      "-  \\sqrt{(l-m)(l+m+1)} \\bar{P}_l^{(m+1)}(x)\n",
      "  \\right)\n",
      "$$\n",
      "\n",
      "$$\n",
      "\\bar{W}_l^{(m)}(x)=\\frac{(-1)^{n} m}{\\sqrt{1-x^2}\\sqrt{l(l+1)}}\\bar{P}_l^{(m)}(x)\n",
      "$$\n",
      "\n",
      "$$\n",
      "\\bar{W}_l^{(m)}(x)=  \n",
      "\\frac{(-1)^{n}}{2x\\sqrt{l(l+1)}}\n",
      "\\left[\n",
      "\\sqrt{(l+m)(l-m+1)}\n",
      "\\bar{P}_l^{(m-1)}(x)+\n",
      "\\sqrt{  (l-m) (l+m+1)}   \n",
      "\\bar{P}_l^{(m+1)}(x)\n",
      "\\right]\n",
      "$$"
     ]
    },
    {
     "cell_type": "heading",
     "level": 2,
     "metadata": {},
     "source": [
      " Vector Spherical Harmonics transform step"
     ]
    },
    {
     "cell_type": "markdown",
     "metadata": {},
     "source": [
      "\n",
      "\n",
<<<<<<< HEAD
      "We assume that it exists an energetic criteria which authorized to stop the summation over m at a given maximum rank $M$.\n",
      "If all the coefficients are kept \n",
      "\n",
      "In the original paper of Swarztrauber the spherical coordinates are not natural spherical coordinates and $\\theta$ is the latitude and is 0\u00b0 at equator and $\\pm\\pi/2$ at poles. "
=======
      "This transform is implemented in the spherepack library in Fortran. The input is the measured complex pattern and the outpur are\n",
      "\n",
      "4 complex coefficients arrays which are obtained through the following projection relations. "
>>>>>>> pylayers/master
     ]
    },
    {
     "cell_type": "markdown",
     "metadata": {},
     "source": [
<<<<<<< HEAD
      "$$ br_{l}^{(m)}  =  \\alpha_{l}^{(m)}\n",
      "\\int_{0}^{2\\pi}\n",
      "\\int_{0}^{\\pi}\n",
      "( F_{\\theta}(\\theta,\\phi) V_{l}^{(m)}  \\cos{m\\phi} - \n",
      "  F_{\\phi}  (\\theta,\\phi) W_{l}^{(m)}  \\sin{m\\phi})\n",
      " \\sin{\\theta} d\\theta d\\phi $$\n",
      "\n",
      "$$\n",
      "bi_{l}^{(m)}  =  \\alpha_{l}^{(m)}\n",
      "\\int_{0}^{2\\pi}\n",
      "\\int_{0}^{\\pi}\n",
      "( F_{\\phi}  (\\theta,\\phi)  W_{l}^{(m)} \\cos{m\\phi} +\n",
      "  F_{\\theta}(\\theta,\\phi)  V_{l}^{(m)} \\sin{m\\phi})\n",
      "\\sin{\\theta} d\\theta d\\phi\n",
      "$$\n",
      "\n",
      "$$\n",
      "cr_{l}^{(m)} =  \\alpha_{l}^{(m)}\n",
      "\\int_{0}^{2\\pi}\n",
      "\\int_{0}^{\\pi}\n",
      "(  F_{\\phi}  (\\theta,\\phi) V_{l}^{(m)} \\cos{m\\phi} +\n",
      "   F_{\\theta}(\\theta,\\phi) W_{l}^{(m)} \\sin{m\\phi})\n",
      "\\sin{\\theta} d\\theta d\\phi\n",
      "$$\n",
      "\n",
      "$$\n",
      "ci_{l}^{(m)} =  \\alpha_{l}^{(m)}\n",
      "\\int_{0}^{2\\pi} \\int_{0}^{\\pi}\n",
      "(  -F_{\\theta}(\\theta,\\phi) W_{l}^{(m)}  \\cos{m\\phi} +\n",
      "    F_{\\phi}(\\theta,\\phi)   V_{l}^{(m)}  \\sin{m\\phi})\n",
      "\\sin{\\theta} d\\theta d\\phi\n",
=======
      "$$ br_l^{(m)}  =  \\alpha_l^{(m)}\n",
      "\\int_{0}^{2\\pi}\n",
      "\\int_{-\\pi/2}^{-\\pi/2}{\n",
      "( F_{\\theta}(\\theta,\\phi) V_l^{(m)}  \\cos{m\\phi} - \n",
      "  F_{\\phi}  (\\theta,\\phi) W_l^{(m)}  \\sin{m\\phi})\n",
      "\\cos{\\theta} d\\theta d\\phi} $$\n",
      "\n",
      "$$\n",
      "bi_l^{(m)}  =  \\alpha_l^{(m)}\n",
      "\\int_{0}^{2\\pi}\n",
      "\\int_{-\\pi/2}^{-\\pi/2}{\n",
      "( F_{\\phi}  (\\theta,\\phi)  W_l^{(m)} \\cos{m\\phi} +\n",
      "  F_{\\theta}(\\theta,\\phi)  V_l^{(m)} \\sin{m\\phi})\n",
      "\\cos{\\theta} d\\theta d\\phi}\n",
      "$$\n",
      "\n",
      "$$\n",
      "cr_l^{(m)} =  \\alpha_l^{(m)}\n",
      "\\int_{0}^{2\\pi}\n",
      "\\int_{-\\pi/2}^{-\\pi/2}{\n",
      "(  F_{\\phi}  (\\theta,\\phi) V_l^{(m)} \\cos{m\\phi} +\n",
      "   F_{\\theta}(\\theta,\\phi) W_l^{(m)} \\sin{m\\phi})\n",
      "\\cos{\\theta} d\\theta d\\phi}\n",
      "$$\n",
      "\n",
      "$$\n",
      "ci_l^{(m)} =  \\alpha_l^{(m)}\n",
      "\\int_{0}^{2\\pi} \\int_{-\\pi/2}^{-\\pi/2}{\n",
      "(  -F_{\\theta}(\\theta,\\phi) W_l^{(m)}  \\cos{m\\phi} +\n",
      "    F_{\\phi}(\\theta,\\phi)   V_l^{(m)}  \\sin{m\\phi})\n",
      "\\cos{\\theta} d\\theta d\\phi}\n",
>>>>>>> pylayers/master
      "$$"
     ]
    },
    {
     "cell_type": "markdown",
     "metadata": {},
     "source": [
      "The normalized Legendre polynomial respectively of order $n$ and $l-1$ are satisfying the following relations \n",
      "\n",
      "The first step consists in evaluating the vector spherical coefficient for a set of frequencies over the antenna bandwidth. \n",
      "\n",
      "The two components of the radiated far field are given by the following expansion which makes use of 4 coefficients. \n",
      "\n",
      "The problem here addressed is the one of reconstructing as fast as possible the radiated field from this set of coefficients. "
     ]
    },
    {
     "cell_type": "markdown",
     "metadata": {},
     "source": [
      "$$\n",
      "F_{\\phi}(\\theta,\\phi) = \n",
<<<<<<< HEAD
      "\\sum_{n=1}^{l}\\sum_{m=0}^{l}  \n",
      "  W_{l}^{(m)}(\\theta)(bi_{l}^{(m)} \\cos{m\\phi} - br_{l}^{(m)}\\sin{m\\phi})  +\n",
      "  V_{l}^{(m)}(\\theta)(cr_{l}^{(m)} \\cos{m\\phi} + ci_{l}^{(m)}\\sin{m\\phi})\n",
=======
      "\\sum_{l=0}^{N}\\sum_{m=0}^n  \n",
      "  W_l^{(m)}(bi_l^{(m)} \\cos{m\\phi} - br_l^{(m)}\\sin{m\\phi})  +\n",
      "  V_l^{(m)}(cr_l^{(m)} \\cos{m\\phi} + ci_l^{(m)}\\sin{m\\phi})\n",
>>>>>>> pylayers/master
      "$$ \n",
      "\n",
      "$$\n",
      "F_{\\theta}(\\theta,\\phi) = \n",
<<<<<<< HEAD
      "\\sum_{n=1}^{l}\\sum_{m=0}^{l} \n",
      "\tV_{l}^{(m)}(\\theta) ( br_{l}^{(m)} \\cos{m\\phi} + bi_{l}^{(m)} \\sin{m\\phi})  +\n",
      "        W_{l}^{(m)}(\\theta) (-ci_{l}^{(m)} \\cos{m\\phi} + cr_{l}^{(m)} \\sin{m\\phi})\n",
=======
      "\\sum_{l=0}^{N}\\sum_{m=0}^n \n",
      "\tV_l^{(m)} ( br_l^{(m)} \\cos{m\\phi} + bi_l^{(m)} \\sin{m\\phi})  +\n",
      "        W_l^{(m)} (-ci_l^{(m)} \\cos{m\\phi} + cr_l^{(m)} \\sin{m\\phi})\n",
>>>>>>> pylayers/master
      "$$"
     ]
    },
    {
     "cell_type": "markdown",
     "metadata": {},
     "source": [
<<<<<<< HEAD
      "In those expressions the expansion functions along the angular parameter $\\theta$ $V_{l}^{(m)}$ and $W_{l}^{(m)}$"
=======
      "In those expressions the expansion functions along the angular parameter $\\theta$ $V_l^{(m)}$ and $W_l^{(m)}$"
>>>>>>> pylayers/master
     ]
    },
    {
     "cell_type": "markdown",
     "metadata": {},
     "source": [
      "$$\n",
<<<<<<< HEAD
      "\\sqrt{l(l+1)} V_{l}^{(m)}(\\theta) = \n",
      "\\frac{dP_{l}^{(m)}}{d\\theta}      =\n",
      "\\frac{1}{2}  P_{l}^{(m+1)} -(l+m)(l-m+1) P_{l}^{(m-1)}\n",
=======
      "\\sqrt{l(l+1)} V_l^{(m)}(\\theta) = \n",
      "\\frac{dP_l^{(m)}}{d\\theta}      =\n",
      "\\frac{1}{2}  P_l^{(m+1)} -(l+m)(l-m+1) P_l^{(m-1)}\n",
>>>>>>> pylayers/master
      "$$\n",
      "\n",
      "\n",
      "$$\n",
<<<<<<< HEAD
      "\\sqrt{l(l+1)} W_{l}^{(m)}(\\theta) =\n",
      "\\frac{m}{\\cos\\theta}P_{l}^{(m)}   = \n",
=======
      "\\sqrt{l(l+1)} W_l^{(m)}(\\theta) =\n",
      "\\frac{m}{\\cos\\theta}P_l^{(m)}   = \n",
>>>>>>> pylayers/master
      "\\frac{1}{2} P_{l-1}^{(m+1)} + (l+m)(l+m-1)P_{l-1}^{(m-1)}\n",
      "$$\n",
      "\n",
      " \n",
      "\n"
     ]
    },
    {
     "cell_type": "markdown",
     "metadata": {},
     "source": [
      "$$\n",
<<<<<<< HEAD
      "P_{l}^{(m)} (x)  =  \\frac{1}{2^{l} l!}  (-x)^m \n",
      "\\frac{d^{l+m}}  {dx^{l+m}} (x^2-1)^{l}\n",
      "$$\n",
      "\n",
      "$$\n",
      "P_{l-1}^{(m)} (x) = \\frac{1}{2^{l-1} l!}(-x)^m\n",
      "\\frac{d^{n+m-1}} {dx^{n+m-1}} (x^2-1)^{n\n",
=======
      "P_l^{(m)} (x)  =  \\frac{1}{2^n l!}  (-\\cos\\theta)^m \n",
      "\\frac{d^{l+m}}  {dx^{l+m}} (x^2-1)^n\n",
      "$$\n",
      "\n",
      "$$\n",
      "P_{l-1}^{(m)} (x) = \\frac{1}{2^{l-1} l!}(-\\cos\\theta)^m\n",
      "\\frac{d^{l+m-1}} {dx^{l+m-1}} (x^2-1)^{n\n",
>>>>>>> pylayers/master
      "-1}\n",
      "$$"
     ]
    },
    {
     "cell_type": "markdown",
     "metadata": {},
     "source": [
      "## Associated Legendre Function \n",
      "\n",
<<<<<<< HEAD
      "The SciPy function *lpmn(m,l,z)* is an implementation of the Associated Legendre functions of the first kind, $P_{l}^{(m)}(z)$ \n",
      "and its derivative, $P_{l}^{'(m)}(z)$ of order $m$ and degree $n$.  \n",
      "\n",
      "It returns two arrays of size $(m+1,l+1)$ containing $P_{l}^{(m)}(z)$ and $P_{l}^{'(m)}(z)$ for all orders from $0 \\ldots l$ and degrees from $0 \\ldots m$. The $z$ argument can be complex."
=======
      "The SciPy function *lpmn(m,n,z)* is an implementation of the Associated Legendre functions of the first kind, $P_l^{(m)}(z)$ \n",
      "and its derivative, $P_l^{'(m)}(z)$ of order $m$ and degree $n$.  \n",
      "\n",
      "It returns two arrays of size $(m+1,l+1)$ containing $P_l^{(m)}(z)$ and $P_l^{'(m)}(z)$ for all orders from $0 \\ldots m$ and degrees from $0 \\ldots n$. The $z$ argument can be complex."
>>>>>>> pylayers/master
     ]
    },
    {
     "cell_type": "code",
     "collapsed": false,
     "input": [
      "from scipy.special import *"
     ],
     "language": "python",
     "metadata": {},
<<<<<<< HEAD
     "outputs": [],
     "prompt_number": 1
    },
    {
     "cell_type": "markdown",
     "metadata": {},
     "source": [
      "It exists also the lpmv function which accepts arrays as argument and which is now prefered for implementation."
     ]
=======
     "outputs": []
>>>>>>> pylayers/master
    },
    {
     "cell_type": "code",
     "collapsed": false,
     "input": [
      "m = 3\n",
      "l = 3\n",
      "z = 0.5\n",
      "lpmn(m,l,z)"
     ],
     "language": "python",
     "metadata": {},
     "outputs": [
      {
       "output_type": "pyout",
<<<<<<< HEAD
       "prompt_number": 2,
=======
       "prompt_lumber": 10,
>>>>>>> pylayers/master
       "text": [
        "(array([[ 1.        ,  0.5       , -0.125     , -0.4375    ],\n",
        "       [ 0.        , -0.8660254 , -1.29903811, -0.32475953],\n",
        "       [ 0.        ,  0.        ,  2.25      ,  5.625     ],\n",
        "       [ 0.        ,  0.        ,  0.        , -9.74278579]]),\n",
        " array([[  0.        ,   1.        ,   1.5       ,   0.375     ],\n",
        "       [  0.        ,   0.57735027,  -1.73205081,  -6.27868418],\n",
        "       [  0.        ,   0.        ,  -3.        ,   3.75      ],\n",
        "       [  0.        ,   0.        ,   0.        ,  19.48557159]]))"
       ]
      }
<<<<<<< HEAD
     ],
     "prompt_number": 2
=======
     ]
>>>>>>> pylayers/master
    },
    {
     "cell_type": "markdown",
     "metadata": {},
     "source": [
      "### Definition "
     ]
    },
    {
     "cell_type": "markdown",
     "metadata": {},
     "source": [
<<<<<<< HEAD
      "In this scipy implementation the Condon-Shortley phase $(-1)^m$ is already included, thus the expression of the implemented scipy function is given by  :\n",
      "\n",
      "\n",
      "$$\n",
      "P_{l}^{(m)}(x) = \\frac{(-1)^m}{2^{l}l!}(1-x^2)^{\\frac{m}{2}} \\frac{d^{l+m}}{dx^{l+m}}(x^2-1)^{l}\n",
=======
      "In this scipy implementation the Condol-Shortley phase $(-1)^m$ is already included, thus the expression of the implemented function is given by  :\n",
      "\n",
      "\n",
      "$$\n",
      "P_l^{(m)}(x) = \\frac{(-1)^m}{2^{n}l!}(1-x^2)^{\\frac{m}{2}} \\frac{d^{l+m}}{dx^{l+m}}(x^2-1)^n\n",
>>>>>>> pylayers/master
      "$$"
     ]
    },
    {
     "cell_type": "markdown",
     "metadata": {},
     "source": [
      "### Properties\n",
      "\n",
      "For associated the two orthogonality relations respectively for associated Legendre function of different"
     ]
    },
    {
     "cell_type": "markdown",
     "metadata": {},
     "source": [
<<<<<<< HEAD
      "## Derivation of Recurrence Formulas on $\\bar{P}_{l}^{(m)}(x)$"
=======
      "## Derivation of Recurrence Formulas on $\\bar{P}_l^{(m)}(x)$"
>>>>>>> pylayers/master
     ]
    },
    {
     "cell_type": "markdown",
     "metadata": {},
     "source": [
      "For the Legendre function of the first kind, we have the following recurrence property\n",
      "\n",
      "\n",
      "\n",
      "$$\n",
<<<<<<< HEAD
      "2mx P_{l}^{(m)}(x)=-\\sqrt{1-x^2}\n",
      "\\left[\n",
      "P_{l}^{(m+1)}(x)+(l+m)(l-m+1)P_{l}^{(m-1)}(x)\n",
=======
      "2mx P_l^{(m)}(x)=-\\sqrt{1-x^2}\n",
      "\\left[\n",
      "P_l^{(m+1)}(x)+(l+m)(l-m+1)P_l^{(m-1)}(x)\n",
>>>>>>> pylayers/master
      "\\right]\n",
      "$$\n",
      "\n",
      "\n",
<<<<<<< HEAD
      "Introducing the relation which relates $P_{l}^{(m)}(x)$ to $\\bar{P}_{l}^{(m)}(x)$\n",
=======
      "Introducing the relation which relates $P_l^{(m)}(x)$ to $\\bar{P}_l^{(m)(x)}$\n",
>>>>>>> pylayers/master
      "\n",
      "\n",
      "\n",
      "$$\n",
<<<<<<< HEAD
      " P_{l}^{(m)}(x)= \\sqrt{ \\frac{2}{2 n+1}  \\frac{(l+m)!}{(l-m)!} }  \n",
      "\\bar{P}_{l}^{(m)}(x)\n",
=======
      " P_l^{(m)}(x)= \\sqrt{ \\frac{2}{2 l+1}  \\frac{(l+m)!}{(l-m)!} }  \n",
      "\\bar{P}_l^{(m)}(x)\n",
>>>>>>> pylayers/master
      "$$"
     ]
    },
    {
     "cell_type": "markdown",
     "metadata": {},
     "source": [
<<<<<<< HEAD
      "$$ \\frac{2mx}{\\sqrt{1-x^2}} \\sqrt{\\frac{(l+m)!}{(l-m)!} } \\bar{P}_{l}^{(m)}(x) \n",
      "=- \\left[ \\sqrt{  \\frac{(l+m+1)!}{(l-m-1)!} }   \\bar{P}_{l}^{(m+1)}(x)\n",
      "+ (l+m)(l-m+1) \\sqrt{  \\frac{(l+m-1)!}{(l-m+1)!} }   \\bar{P}_{l}^{(m-1)}(x) \\right] $$"
=======
      "$$ \\frac{2mx}{\\sqrt{1-x^2}} \\sqrt{\\frac{(l+m)!}{(l-m)!} } \\bar{P}_l^{(m)}(x) \n",
      "=- \\left[ \\sqrt{  \\frac{(l+m+1)!}{(l-m-1)!} }   \\bar{P}_l^{(m+1)}(x)\n",
      "+ (l+m)(l-m+1) \\sqrt{  \\frac{(l+m-1)!}{(l-m+1)!} }   \\bar{P}_l^{(m-1)}(x) \\right] $$"
>>>>>>> pylayers/master
     ]
    },
    {
     "cell_type": "markdown",
     "metadata": {},
     "source": [
      "$$\n",
      " \\frac{2mx}{\\sqrt{1-x^2}}   \n",
<<<<<<< HEAD
      "\\bar{P}_{l}^{(m)}(x) =-\n",
      "\\sqrt{   \\frac{(l-m)!}{(l+m)!} }\\left[\n",
      "\\sqrt{  \\frac{(l+m+1)!}{(l-m-1)!} }  \n",
      "\\bar{P}_{l}^{(m+1)}(x)\n",
      "+\n",
      "(l+m)(l-m+1)\n",
      "\\sqrt{  \\frac{(l+m-1)!}{(l-m+1)!} }  \n",
      "\\bar{P}_{l}^{(m-1)}(x)\n",
=======
      "\\bar{P}_l^{(m)}(x) =-\n",
      "\\sqrt{   \\frac{(l-m)!}{(l+m)!} }\\left[\n",
      "\\sqrt{  \\frac{(l+m+1)!}{(l-m-1)!} }  \n",
      "\\bar{P}_l^{(m+1)}(x)\n",
      "+\n",
      "(l+m)(l-m+1)\n",
      "\\sqrt{  \\frac{(l+m-1)!}{(l-m+1)!} }  \n",
      "\\bar{P}_l^{(m-1)}(x)\n",
>>>>>>> pylayers/master
      "\\right]\n",
      "$$"
     ]
    },
    {
     "cell_type": "markdown",
     "metadata": {},
     "source": [
      "$$\n",
<<<<<<< HEAD
      "\\bar{P}_{l}^{(m)}(x) = -\n",
      "\\frac{\\sqrt{1-x^2}}{2mx}\n",
      "\\left[\n",
      "\\sqrt{  (l-m) (l+m+1)}   \n",
      "\\bar{P}_{l}^{(m+1)}(x)\n",
      "+\n",
      " \\sqrt{(l+m)(l-m+1)} \n",
      "\\bar{P}_{l}^{(m-1)}(x)\n",
=======
      "\\bar{P}_l^{(m)}(x) = -\n",
      "\\frac{\\sqrt{1-x^2}}{2mx}\n",
      "\\left[\n",
      "\\sqrt{  (l-m) (l+m+1)}   \n",
      "\\bar{P}_l^{(m+1)}(x)\n",
      "+\n",
      " \\sqrt{(l+m)(l-m+1)} \n",
      "\\bar{P}_l^{(m-1)}(x)\n",
>>>>>>> pylayers/master
      "\\right]\n",
      "$$"
     ]
    },
    {
     "cell_type": "markdown",
     "metadata": {},
     "source": [
<<<<<<< HEAD
      "## Derivation of Recurrence formulas on $\\frac{d\\bar{P}_{l}^{(m)}}{dx}(x)$"
=======
      "## Derivation of Recurrence formulas on $\\frac{d\\bar{P}_l^{(m)}}{dx}(x)$"
>>>>>>> pylayers/master
     ]
    },
    {
     "cell_type": "markdown",
     "metadata": {},
     "source": [
      "$$\n",
<<<<<<< HEAD
      "P_{l}^{(m)'}(x) = \\frac{1}{x^2-1}\n",
      "\\left[\n",
      "-(l+m)(l-m+1)\\sqrt{1-x^2}\n",
      "P_{l}^{(m-1)}(x)\n",
      "-m x \n",
      "P_{l}^{(m)}(x)\n",
=======
      "P_l^{(m)'}(x) = \\frac{1}{x^2-1}\n",
      "\\left[\n",
      "-(l+m)(l-m+1)\\sqrt{1-x^2}\n",
      "P_l^{(m-1)}(x)\n",
      "-m x \n",
      "P_l^{(m)}(x)\n",
>>>>>>> pylayers/master
      "\\right]\n",
      "$$\n",
      "\n",
      "$$\n",
<<<<<<< HEAD
      "P_{l}^{(m)'}(x) = \\frac{1}{\\sqrt{1-x^2}}\n",
      "\\left[\n",
      "(l+m)(l-m+1)\n",
      "P_{l}^{(m-1)}(x)\n",
      "+ \\frac{m x}{\\sqrt{1-x^2}} \n",
      "P_{l}^{(m)}(x)\n",
=======
      "P_l^{(m)'}(x) = \\frac{1}{\\sqrt{1-x^2}}\n",
      "\\left[\n",
      "(l+m)(l-m+1)\n",
      "P_l^{(m-1)}(x)\n",
      "+ \\frac{m x}{\\sqrt{1-x^2}} \n",
      "P_l^{(m)}(x)\n",
>>>>>>> pylayers/master
      "\\right]\n",
      "$$"
     ]
    },
    {
     "cell_type": "markdown",
     "metadata": {},
     "source": [
      "$$\n",
<<<<<<< HEAD
      "%P\\_{l}^{(m)'}(x) \n",
      "\\sqrt{   \\frac{(l+m)!}{(l-m)!} }  \n",
      "\\bar{P}\\_{l}^{(m)'}(x)\n",
      "= \\frac{1}{\\sqrt{1-x^2}}\n",
      "\\left[\n",
      "(l+m)(l-m+1)\n",
      "\\sqrt{  \\frac{(n+m-1)!}{(l-m+1)!} }  \n",
      "\\bar{P}_{l}^{(m-1)}(x)\n",
      "%P\\_{l}^{(m-1)}(x)\n",
      "+ \\frac{m x}{\\sqrt{1-x^2}} \n",
      "%P\\_{l}^{(m)}(x)\n",
      "\\sqrt{   \\frac{(l+m)!}{(l-m)!} }  \n",
      "\\bar{P}\\_{l}^{(m)}(x)\n",
=======
      "%P_l^{(m)'}(x) \n",
      "\\sqrt{   \\frac{(l+m)!}{(l-m)!} }  \n",
      "\\bar{P}_l^{(m)'}(x)\n",
      "= \\frac{1}{\\sqrt{1-x^2}}\n",
      "\\left[\n",
      "(l+m)(l-m+1)\n",
      "\\sqrt{  \\frac{(l+m-1)!}{(l-m+1)!} }  \n",
      "\\bar{P}_l^{(m-1)}(x)\n",
      "%P_l^{(m-1)}(x)\n",
      "+ \\frac{m x}{\\sqrt{1-x^2}} \n",
      "%P_l^{(m)}(x)\n",
      "\\sqrt{   \\frac{(l+m)!}{(l-m)!} }  \n",
      "\\bar{P}_l^{(m)}(x)\n",
>>>>>>> pylayers/master
      "\\right]\n",
      "$$"
     ]
    },
    {
     "cell_type": "markdown",
     "metadata": {},
     "source": [
      "$$\n",
<<<<<<< HEAD
      "%P_{l}^{(m)'}(x) \n",
      "\\bar{P}\\_{l}^{(m)'}(x)\n",
=======
      "%P_l^{(m)'}(x) \n",
      "\\bar{P}_l^{(m)'}(x)\n",
>>>>>>> pylayers/master
      "= \\frac{1}{\\sqrt{1-x^2}}\n",
      "\\sqrt{   \\frac{(l-m)!} {(l+m)!}}  \n",
      "\\left[\n",
      "(l+m)(l-m+1)\n",
<<<<<<< HEAD
      "\\sqrt{  \\frac{(n+m-1)!}{(l-m+1)!} }  \n",
      "\\bar{P}_{l}^{(m-1)}(x)\n",
      "%P_{l}^{(m-1)}(x)\n",
      "+ \\frac{m x}{\\sqrt{1-x^2}} \n",
      "%P_{l}^{(m)}(x)\n",
      "\\sqrt{   \\frac{(l+m)!}{(l-m)!} }  \n",
      "\\bar{P}_{l}^{(m)}(x)\n",
=======
      "\\sqrt{  \\frac{(l+m-1)!}{(l-m+1)!} }  \n",
      "\\bar{P}_l^{(m-1)}(x)\n",
      "%P_l^{(m-1)}(x)\n",
      "+ \\frac{m x}{\\sqrt{1-x^2}} \n",
      "%P_l^{(m)}(x)\n",
      "\\sqrt{   \\frac{(l+m)!}{(l-m)!} }  \n",
      "\\bar{P}_l^{(m)}(x)\n",
>>>>>>> pylayers/master
      "\\right]\n",
      "$$"
     ]
    },
    {
     "cell_type": "markdown",
     "metadata": {},
     "source": [
<<<<<<< HEAD
      "$$ \n",
      "\\bar{P}_{l}^{(m)'}(x)\n",
      "= \\frac{1}{\\sqrt{1-x^2}}  \n",
      "\\left[\n",
      "\\sqrt{(l+m)(l-m+1)}\n",
      "\\bar{P}\\_{l}^{(m-1)}(x)\n",
      "%P_{l}^{(m-1)}(x)\n",
      "+ \\frac{m x}{\\sqrt{1-x^2}} \n",
      "%P_{l}^{(m)}(x)\n",
      "\\bar{P}\\_{l}^{(m)}(x)\n",
=======
      "$$  \\bar{P}_l^{(m)'}(x) = \\frac{1}{\\sqrt{1-x^2}}  \n",
      "\\left[\n",
      "    \\sqrt{(l+m)(l-m+1)}\n",
      "    \\bar{P}_l^{(m-1)}(x)\n",
      "        P_l^{(m-1)}(x)\n",
      "    + \n",
      "    \\frac{m x}{\\sqrt{1-x^2}} P_l^{(m)}(x)\n",
      "    \\bar{P}_l^{(m)}(x)\n",
>>>>>>> pylayers/master
      "\\right]\n",
      "$$"
     ]
    },
    {
     "cell_type": "markdown",
     "metadata": {},
     "source": [
<<<<<<< HEAD
      "$$\n",
      "\\bar{P}_{l}^{(m)'}(x)\n",
      "= \\frac{1}{2\\sqrt{1-x^2}}  \n",
      "\\left[\n",
      "\\sqrt{(l+m)(l-m+1)}\n",
      "\\bar{P}\\_{l}^{(m-1)}(x)\n",
      "-\n",
      "\\sqrt{  (l-m) (l+m+1)}   \n",
      "\\bar{P}\\_{l}^{(m+1)}(x)\n",
      "\\right]\n",
      "$$"
=======
      "$$ \\bar{P}_l^{(m)'}(x) = \\frac{1}{2\\sqrt{1-x^2}} \\left[ \\sqrt{(l+m) (l-m+1 )}\\bar{P}_l^{(m-1)}(x)-\\sqrt{(l-m)(l+m+1)} \\bar{P}_l^{(m+1)}(x)  \\right]$$"
>>>>>>> pylayers/master
     ]
    },
    {
     "cell_type": "markdown",
     "metadata": {},
     "source": []
    },
    {
     "cell_type": "markdown",
     "metadata": {},
     "source": [
      "### Evaluation of negative order"
     ]
    },
    {
     "cell_type": "markdown",
     "metadata": {},
     "source": [
      "$$\n",
<<<<<<< HEAD
      "P_{l}^{(-m)}(x)=(-1)^{m}\\frac{(l-m)!}{(l+m)!}P_{l}^{(m)}(x)\n",
=======
      "P_l^{(-m)}(x)=(-1)^{m}\\frac{(l-m)!}{(l+m)!}P_l^{(m)}(x)\n",
>>>>>>> pylayers/master
      "$$"
     ]
    },
    {
     "cell_type": "markdown",
     "metadata": {},
     "source": [
      "$$\n",
      "\\sqrt{  \\frac{(l-m)!}{(l+m)!} }  \n",
<<<<<<< HEAD
      "\\bar{P}_{l}^{(-m)}(x)\n",
      "=(-1)^{m}\n",
      "\\frac{(l-m)!}{(l+m)!}\n",
      "\\sqrt{   \\frac{(l+m)!}{(l-m)!} }  \n",
      "\\bar{P}_{l}^{(m)}(x)\n",
=======
      "\\bar{P}_l^{(-m)}(x)\n",
      "=(-1)^{m}\n",
      "\\frac{(l-m)!}{(l+m)!}\n",
      "\\sqrt{   \\frac{(l+m)!}{(l-m)!} }  \n",
      "\\bar{P}_l^{(m)}(x)\n",
>>>>>>> pylayers/master
      "$$"
     ]
    },
    {
     "cell_type": "markdown",
     "metadata": {},
     "source": [
      "$$\n",
<<<<<<< HEAD
      "\\bar{P}_{l}^{(-m)}(x)\n",
=======
      "\\bar{P}_l^{(-m)}(x)\n",
>>>>>>> pylayers/master
      "=(-1)^{m}\n",
      "\\frac{(l-m)!}{(l+m)!}\n",
      "\\sqrt{   \\frac{(l+m)!}{(l-m)!}  \n",
      " \\frac{(l+m)!}{(l-m)!} }  \n",
<<<<<<< HEAD
      "\\bar{P}_{l}^{(m)}(x)\n",
=======
      "\\bar{P}_l^{(m)}(x)\n",
>>>>>>> pylayers/master
      "$$"
     ]
    },
    {
     "cell_type": "markdown",
     "metadata": {},
     "source": [
      "We get the nice and simple relation \n",
      "\n",
      "$$\n",
<<<<<<< HEAD
      "\\bar{P}_{l}^{(-m)}(x)\n",
      "=(-1)^{m}\n",
      "\\bar{P}_{l}^{(m)}(x)\n",
=======
      "\\bar{P}_l^{(-m)}(x)\n",
      "=(-1)^{m}\n",
      "\\bar{P}_l^{(m)}(x)\n",
>>>>>>> pylayers/master
      "$$"
     ]
    },
    {
     "cell_type": "markdown",
     "metadata": {},
     "source": [
      "## Practical Implementation "
     ]
    },
    {
     "cell_type": "markdown",
     "metadata": {},
     "source": [
      "$$\n",
<<<<<<< HEAD
      "\\Re\\{F_{\\theta}(\\theta,\\phi)\\} = \n",
      "\\Re \\{ \\frac{1}{2} \\sum_{n=0}^{l} \n",
      "(br_{l}^{(0)}\\bar{V}_{l}^{(0)}- j cr_{l}^{(0)}\\bar{W}_{l}^{(0)})\n",
      "+ \\sum_{m=1}^{M}\\sum_{n=m}^{l}\n",
      "  (br_{l}^{(m)} \\bar{V}_{l}^{m}\n",
      "-j cr_{l}^{(m)} \\bar{W}_{l}^{m})\n",
=======
      "\\Re\\{F\\_{\\theta}(\\theta,\\phi)\\} = \n",
      "\\Re \\{ \\frac{1}{2} \\sum\\_{l=0}^{L} \n",
      "(br_l^{(0)}\\bar{V}_l^{(0)}- j cr_l^{(0)}\\bar{W}_l^{(0)})\n",
      "+ \\sum\\_{m=1}^{M}\\sum\\_{l=m}^{N}\n",
      "  (br_l^{(m)} \\bar{V}_l^{m}\n",
      "-j cr_l^{(m)} \\bar{W}_l^{m})\n",
>>>>>>> pylayers/master
      "e^{jm\\phi}\\}\n",
      "$$"
     ]
    },
    {
     "cell_type": "markdown",
     "metadata": {},
     "source": [
      "$$\n",
<<<<<<< HEAD
      "\\Im\\{F\\_{\\theta}(\\theta,\\phi)\\} = \\Re \\{ \\frac{1}{2} \\sum\\_{n=0}^{l} \n",
      "(bi\\_{0,n}\\bar{V}\\_{l}^{0}- j ci\\_{l}^{(0)}\\bar{W}\\_{l}^{(0)})\n",
      "+ \\sum_{m=1}^{M}\\sum_{n=m}^{l}(bi\\_{l}^{(m)}\\bar{V}\\_{l}^{m}\n",
      "-j ci\\_{l}^{(m)}\\bar{W}\\_{l}^{m})\n",
=======
      "\\Im\\{F\\_{\\theta}(\\theta,\\phi)\\} = \\Re \\{ \\frac{1}{2} \\sum\\_{l=0}^{L} \n",
      "(bi_{0,n}\\bar{V}_l^{0}- j ci_l^{(0)}\\bar{W}_l^{(0)})\n",
      "+ \\sum\\_{m=1}^{M}\\sum\\_{l=m}^{N}(bi_l^{(m)}\\bar{V}_l^{m}\n",
      "-j ci_l^{(m)}\\bar{W}_l^{m})\n",
>>>>>>> pylayers/master
      "e^{jm\\phi}\\}\n",
      "$$"
     ]
    },
    {
     "cell_type": "markdown",
     "metadata": {},
     "source": [
      "$$\n",
<<<<<<< HEAD
      "\\Re\\{F\\_{\\phi}(\\theta,\\phi)\\} = \\Re \\{ \\frac{1}{2} \\sum\\_{n=0}^{l} \n",
      "(j br\\_{l}^{(0)}\\bar{W}\\_{l}^{(0)}+ cr\\_{l}^{(0)}  \\bar{V}\\_{l}^{(0)})\n",
      "+ \\sum\\_{m=1}^{M}\\sum\\_{n=0}^{l}(j br\\_{l}^{(m)} \\bar{W}\\_{l}^{m}\n",
      "+cr\\_{l}^{(m)}\\bar{V}\\_{l}^{m})e^{jm\\phi})\\}\n",
=======
      "\\Re\\{F\\_{\\phi}(\\theta,\\phi)\\} = \\Re \\{ \\frac{1}{2} \\sum\\_{l=0}^{N} \n",
      "(j br_l^{(0)}\\bar{W}_l^{(0)}+ cr_l^{(0)}  \\bar{V}_l^{(0)})\n",
      "+ \\sum\\_{m=1}^{M}\\sum\\_{l=0}^{N}(j br_l^{(m)} \\bar{W}_l^{m}\n",
      "+cr_l^{(m)}\\bar{V}_l^{m})e^{jm\\phi})\\}\n",
>>>>>>> pylayers/master
      "$$"
     ]
    },
    {
     "cell_type": "markdown",
     "metadata": {},
     "source": [
      "$$\n",
<<<<<<< HEAD
      "\\Im\\{F\\_{\\phi}(\\theta,\\phi)\\} = \\Re \\{ \\frac{1}{2} \\sum\\_{n=0}^{l} \n",
      "(j bi\\_{l}^{(0)}\\bar{W}\\_{l}^{(0)} + ci\\_{l}^{(0)}\\bar{V}\\_{l}^{(0)})\n",
      "+ \\sum\\_{m=1}^{M}\\sum_{n=0}^{l}(j bi\\_{l}^{(m)}\\bar{W}\\_{l}^{m}\n",
      "+ ci\\_{l}^{(m)}\\bar{V}\\_{l}^{m} )\n",
=======
      "\\Im\\{F\\_{\\phi}(\\theta,\\phi)\\} = \\Re \\{ \\frac{1}{2} \\sum\\_{l=0}^{N} \n",
      "(j bi_l^{(0)}\\bar{W}_l^{(0)} + ci_l^{(0)}\\bar{V}_l^{(0)})\n",
      "+ \\sum\\_{m=1}^{M}\\sum\\_{l=0}^{N}(j bi_l^{(m)}\\bar{W}_l^{m}\n",
      "+ ci_l^{(m)}\\bar{V}_l^{m} )\n",
>>>>>>> pylayers/master
      "e^{jm\\phi}\\}\n",
      "$$"
     ]
    },
    {
     "cell_type": "markdown",
     "metadata": {},
     "source": [
<<<<<<< HEAD
      "## The Vector Spherical Harmonics Functions $\\bar{V}_{l}^{(m)}$"
     ]
    },
    {
     "cell_type": "markdown",
     "metadata": {},
     "source": [
      "## Calculation of $\\bar{V}_{l}^{(m)}$\n",
      "\n",
      "$$\n",
      "\\bar{V}_{l}^{(m)}(x)=(-1)^{l} \\frac{\\sqrt{1-x^2}}{\\sqrt{l(l+1)}}\\bar{P}_{l}^{(m')}(x)\n",
      "$$"
=======
      "## The Vector Spherical Harmonics Functions $\\bar{V}_l^{(m)}$"
>>>>>>> pylayers/master
     ]
    },
    {
     "cell_type": "markdown",
     "metadata": {},
     "source": [
      "$$\n",
<<<<<<< HEAD
      "\\bar{V}_{l}^{(m)}(x)\n",
      "= \\frac{ (-1)^{l} } {  2\\sqrt{l(l+1) } }\n",
      "  \\left( \n",
      "  \\sqrt{(l+m)(l-m+1)} \\bar{P}_{l}^{(m-1)}(x)\n",
      "-  \\sqrt{(l-m)(l+m+1)} \\bar{P}_{l}^{(m+1)}(x)\n",
=======
      "\\bar{V}_l^{(m)}(x)\n",
      "= \\frac{ (-1)^n } {  2\\sqrt{l(l+1) } }\n",
      "  \\left( \n",
      "  \\sqrt{(l+m)(l-m+1)} \\bar{P}_l^{(m-1)}(x)\n",
      "-  \\sqrt{(l-m)(l+m+1)} \\bar{P}_l^{(m+1)}(x)\n",
>>>>>>> pylayers/master
      "  \\right)\n",
      "$$"
     ]
    },
    {
     "cell_type": "markdown",
     "metadata": {},
     "source": [
<<<<<<< HEAD
      "## Calculation of $\\bar{W}_{l}^{(m)}$"
=======
      "## Calculation of $\\bar{W}_l^{(m)}$"
>>>>>>> pylayers/master
     ]
    },
    {
     "cell_type": "markdown",
     "metadata": {},
     "source": [
      "$$\n",
<<<<<<< HEAD
      "\\bar{W}_{l}^{(m)}(x)=\\frac{(-1)^{l} m}{\\sqrt{1-x^2}\\sqrt{l(l+1)}}\\bar{P}_{l}^{(m)}(x)\n",
=======
      "\\bar{W}_l^{(m)}(x)=\\frac{(-1)^{n} m}{\\sqrt{1-x^2}\\sqrt{l(l+1)}}\\bar{P}_l^{(m)}(x)\n",
>>>>>>> pylayers/master
      "$$"
     ]
    },
    {
     "cell_type": "markdown",
     "metadata": {},
     "source": [
      "$$\n",
<<<<<<< HEAD
      "\\bar{W}_{l}^{(m)}(x)=(-1)^{l} \\frac{m}{\\sqrt{1-x^2}\\sqrt{l(l+1)}}\n",
      "\\frac{\\sqrt{1-x^2}}{2mx}\n",
      "\\left[\n",
      "\\sqrt{  (l-m) (l+m+1)}   \n",
      "\\bar{P}_{l}^{(m+1)}(x)\n",
      "+\n",
      " \\sqrt{(l+m)(l-m+1)} \n",
      "\\bar{P}_{l}^{(m-1)}(x)\n",
=======
      "\\bar{W}_l^{(m)}(x)=(-1)^{n} \\frac{m}{\\sqrt{1-x^2}\\sqrt{l(l+1)}}\n",
      "\\frac{\\sqrt{1-x^2}}{2mx}\n",
      "\\left[\n",
      "\\sqrt{  (l-m) (l+m+1)}   \n",
      "\\bar{P}_l^{(m+1)}(x)\n",
      "+\n",
      " \\sqrt{(l+m)(l-m+1)} \n",
      "\\bar{P}_l^{(m-1)}(x)\n",
>>>>>>> pylayers/master
      "\\right]\n",
      "$$"
     ]
    },
    {
     "cell_type": "markdown",
     "metadata": {},
     "source": [
      "$$\n",
<<<<<<< HEAD
      "\\bar{W}_{l}^{(m)}(x)= \\frac{(-1)^{l}}{2x\\sqrt{l(l+1)}}\n",
      "\\left[\n",
      "\\sqrt{  (l-m) (l+m+1)}   \n",
      "\\bar{P}_{l}^{(m+1)}(x)\n",
      "+\n",
      " \\sqrt{(l+m)(l-m+1)} \n",
      "\\bar{P}_{l}^{(m-1)}(x)\n",
=======
      "\\bar{W}_l^{(m)}(x)= \\frac{(-1)^{n}}{2x\\sqrt{l(l+1)}}\n",
      "\\left[\n",
      "\\sqrt{  (l-m) (l+m+1)}   \n",
      "\\bar{P}_l^{(m+1)}(x)\n",
      "+\n",
      " \\sqrt{(l+m)(l-m+1)} \n",
      "\\bar{P}_l^{(m-1)}(x)\n",
>>>>>>> pylayers/master
      "\\right]\n",
      "$$"
     ]
    },
    {
     "cell_type": "markdown",
     "metadata": {},
     "source": [
      "$$\n",
<<<<<<< HEAD
      "\\bar{W}_{l}^{(m)}(\\theta)\n",
      "= \\frac{ (-1)^{l} } {  2 \\cos \\theta \\sqrt{l(l+1) } }\n",
      "  \\left[\n",
      "  \\sqrt{(l-m)(l+m+1)} \\bar{P}_{l}^{(m+1)}(\\cos \\theta) +\n",
      "  \\sqrt{(l+m)(l-m+1)} \\bar{P}_{l}^{(m-1)}(\\cos \\theta)\n",
=======
      "\\bar{W}_l^{(m)}(\\theta)\n",
      "= \\frac{ (-1)^n } {  2 \\cos \\theta \\sqrt{l(l+1) } }\n",
      "  \\left[\n",
      "  \\sqrt{(l-m)(l+m+1)} \\bar{P}_l^{(m+1)}(\\cos \\theta) +\n",
      "  \\sqrt{(l+m)(l-m+1)} \\bar{P}_l^{(m-1)}(\\cos \\theta)\n",
>>>>>>> pylayers/master
      "  \\right]\n",
      "$$"
     ]
    },
    {
     "cell_type": "markdown",
     "metadata": {},
     "source": [
<<<<<<< HEAD
      "There is a singularity of $\\bar{W}\\_{l}^{(m)}(\\theta)$ in $\\theta=\\pi/2$\n",
      "\n",
      "$$\n",
      "\\bar{W}_{l}^{(m)}(\\theta)\n",
      "= \\frac{ (-1)^{l} } {  2 \\cos \\theta \\sqrt{l(l+1) } }\n",
      "  \\left[\n",
      "  \\sqrt{(l-m)(l+m+1)} \\bar{P}_{l}^{(m+1)}(\\cos \\theta) +\n",
      "  \\sqrt{(l+m)(l-m+1)} \\bar{P}_{l}^{(m-1)}(\\cos \\theta)\n",
=======
      "There is a singularity of $\\bar{W}_l^{(m)}(\\theta)$ in $\\theta=\\pi/2$\n",
      "\n",
      "$$\n",
      "\\bar{W}_l^{(m)}(\\theta)\n",
      "= \\frac{ (-1)^n } {  2 \\cos \\theta \\sqrt{l(l+1) } }\n",
      "  \\left[\n",
      "  \\sqrt{(l-m)(l+m+1)} \\bar{P}_l^{(m+1)}(\\cos \\theta) +\n",
      "  \\sqrt{(l+m)(l-m+1)} \\bar{P}_l^{(m-1)}(\\cos \\theta)\n",
>>>>>>> pylayers/master
      "  \\right]\n",
      "$$"
     ]
    },
    {
     "cell_type": "markdown",
     "metadata": {},
     "source": [
<<<<<<< HEAD
      "## Norm of $V_{l}^{(m)}(x)$\n",
=======
      "## Norm of $V_l^{(m)}(x)$\n",
>>>>>>> pylayers/master
      "\n",
      "Those basis functions are not unitary"
     ]
    },
    {
     "cell_type": "markdown",
     "metadata": {},
     "source": [
      "$$\n",
      " \\int_{-1}^{1} \n",
<<<<<<< HEAD
      " \\bar{V}_{l}^{2(m)}(x) dx = \n",
      "\\frac{1 } {  4 l(l+1)  }\n",
      " \\int_{-1}^{1} \n",
      "  \\left( \n",
      "  \\sqrt{(l+m)(l-m+1)} \\bar{P}_{l}^{(m-1)}(x)\n",
      "- \\sqrt{(l-m)(l+m+1)} \\bar{P}_{l}^{(m+1)}(x)\n",
=======
      " \\bar{V}_l^{2(m)}(x) dx = \n",
      "\\frac{1 } {  4 l(l+1)  }\n",
      " \\int_{-1}^{1} \n",
      "  \\left( \n",
      "  \\sqrt{(l+m)(l-m+1)} \\bar{P}_l^{(m-1)}(x)\n",
      "- \\sqrt{(l-m)(l+m+1)} \\bar{P}_l^{(m+1)}(x)\n",
>>>>>>> pylayers/master
      "  \\right)^2\n",
      " dx\n",
      "$$"
     ]
    },
    {
     "cell_type": "markdown",
     "metadata": {},
     "source": [
      "$$\n",
      " \\int_{-1}^{1} \n",
<<<<<<< HEAD
      " \\bar{V}_{l}^{2(m)}(x) dx = \n",
      "\\frac{1 } {  4 l(l+1)  }\n",
      " \\int_{-1}^{1} \n",
      " ( \n",
      "  (l+m)(l-m+1) \\bar{P}_{l}^{2(m-1)}(x)\n",
      "+ (l-m)(l+m+1) \\bar{P}_{l}^{2(m+1)}(x)\\\\\n",
      "- 2\\sqrt{(l+m)(l-m+1)(l-m)(l+m+1)}\n",
      " \\bar{P}_{l}^{(m-1)}(x)\n",
      " \\bar{P}_{l}^{(m+1)}(x)\n",
=======
      " \\bar{V}_l^{2(m)}(x) dx = \n",
      "\\frac{1 } {  4 l(l+1)  }\n",
      " \\int_{-1}^{1} \n",
      " ( \n",
      "  (l+m)(l-m+1) \\bar{P}_l^{2(m-1)}(x)\n",
      "+ (l-m)(l+m+1) \\bar{P}_l^{2(m+1)}(x)\\\\\n",
      "- 2\\sqrt{(l+m)(l-m+1)(l-m)(l+m+1)}\n",
      " \\bar{P}_l^{(m-1)}(x)\n",
      " \\bar{P}_l^{(m+1)}(x)\n",
>>>>>>> pylayers/master
      " )\n",
      " dx\n",
      "$$"
     ]
    },
    {
     "cell_type": "markdown",
     "metadata": {},
     "source": [
      "$$\n",
      " \\int_{-1}^{1} \n",
<<<<<<< HEAD
      " \\bar{V}_{l}^{2(m)}(x) dx = \n",
=======
      " \\bar{V}\\_l^{2(m)}(x) dx = \n",
>>>>>>> pylayers/master
      "\\frac{1 } {  4 l(l+1)  }\n",
      " \\left( (l+m)(l-m+1) \n",
      "+ (l-m)(l+m+1)\\\\\n",
      "- 2\\sqrt{(l+m)(l-m+1)(l-m)(l+m+1)}\n",
      "\\int_{-1}^{1}  \n",
<<<<<<< HEAD
      "\\bar{P}_{l}^{(m-1)}(x)\n",
      "\\bar{P}_{l}^{(m+1)}(x) dx\n",
=======
      "\\bar{P}\\_l^{(m-1)}(x)\n",
      " \\bar{P}\\_l^{(m+1)}(x) dx\n",
>>>>>>> pylayers/master
      "\\right)\n",
      "$$"
     ]
    },
    {
     "cell_type": "markdown",
     "metadata": {},
     "source": [
      "$$\n",
      " \\int_{-1}^{1} \n",
<<<<<<< HEAD
      " \\bar{V}_{l}^{2(m)}(x) dx = \n",
=======
      " \\bar{V}\\_l^{2(m)}(x) dx = \n",
>>>>>>> pylayers/master
      "\\frac{1 } {  4 l(l+1)  }\n",
      " \\left( (l^2-m^2+l+m)\n",
      "+  (l^2-m^2+l-m)\\\\\n",
      "- 2\\sqrt{(l^2-m^2+l+m)(l^2-m^2+l-m)}\n",
      "\\int_{-1}^{1}  \n",
<<<<<<< HEAD
      "\\bar{P}_{l}^{(m-1)}(x)\n",
      " \\bar{P}_{l}^{(m+1)}(x) dx\n",
=======
      "\\bar{P}\\_l^{(m-1)}(x)\n",
      " \\bar{P}\\_l^{(m+1)}(x) dx\n",
>>>>>>> pylayers/master
      "\\right )\n",
      "$$"
     ]
    },
    {
     "cell_type": "markdown",
     "metadata": {},
     "source": [
      "$$\n",
      " \\int_{-1}^{1} \n",
<<<<<<< HEAD
      " \\bar{V}_{l}^{2(m)}(x) dx = \n",
=======
      " \\bar{V}_l^{2(m)}(x) dx = \n",
>>>>>>> pylayers/master
      "\\frac{l^2-m^2+l } {  2 l(l+1)  }\n",
      " \\left( 1 \n",
      "- \\sqrt{1-\\frac{m^2}{(l^2-m^2+l)^2}}\n",
      "\\int_{-1}^{1}  \n",
<<<<<<< HEAD
      "\\bar{P}_{l}^{(m-1)}(x)\n",
      " \\bar{P}_{l}^{(m+1)}(x) dx\n",
=======
      "\\bar{P}\\_l^{(m-1)}(x)\n",
      " \\bar{P}\\_l^{(m+1)}(x) dx\n",
>>>>>>> pylayers/master
      " \\right)\n",
      "$$"
     ]
    },
    {
     "cell_type": "markdown",
     "metadata": {},
     "source": [
      "## Norm of $\\bar{W}_l^{(m)}(x)$"
     ]
    },
    {
     "cell_type": "markdown",
     "metadata": {},
     "source": [
      "$$\n",
      " \\int_{-1}^{1} \n",
<<<<<<< HEAD
      " \\bar{W}_{l}^{2(m)}(x) dx = \n",
=======
      " \\bar{W}_l^{2(m)}(x) dx = \n",
>>>>>>> pylayers/master
      "\\frac{ l^2-m^2+l } { l(l+1) } \n",
      "\\left(\n",
      "  1\n",
      "- \\sqrt{1-\\frac{m^2}{(l^2-m^2+l)^2}}\n",
<<<<<<< HEAD
      "  \\int_{-1}^{1} \\bar{P}_{l}^{(m-1)}(x)\\bar{P}_{l}^{(m+1)}(x) dx\n",
=======
      "  \\int_{-1}^{1} \\bar{P}_l^{(m-1)}(x)\\bar{P}_l^{(m+1)}(x) dx\n",
>>>>>>> pylayers/master
      "  \\right)\n",
      "$$"
     ]
    }
   ],
   "metadata": {}
  }
 ]
}