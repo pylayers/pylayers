{
 "metadata": {
  "name": "DOC-simulnet"
 },
 "nbformat": 3,
 "nbformat_minor": 0,
 "worksheets": [
  {
   "cells": [
    {
     "cell_type": "markdown",
     "metadata": {},
     "source": [
      "# A 2 minutes tutorial"
     ]
    },
    {
     "cell_type": "markdown",
     "metadata": {},
     "source": [
      "This notebbok explains how to run a simation from the simulnet module. \n"
     ]
    },
    {
     "cell_type": "markdown",
     "metadata": {},
     "source": [
      "## 1. Run the simulation"
     ]
    },
    {
     "cell_type": "code",
     "collapsed": false,
     "input": [
      "from pylayers.simul.simulnet import *\n",
      "S=Simul()\n",
      "# config\n",
      "S.sim_opt['duration']='10.'\n",
      "S.verbose=False\n",
      "# run\n",
      "S.runsimul()\n",
      "# just for closing an extra figure from notebook,\n",
      "plt.close()\n",
      "\n",
      "\n"
     ],
     "language": "python",
     "metadata": {},
     "outputs": []
    },
    {
     "cell_type": "markdown",
     "metadata": {},
     "source": [
      "## 2 show the save results\n",
      "\n"
     ]
    },
    {
     "cell_type": "markdown",
     "metadata": {},
     "source": [
      "Data are store into a dictionnary:\n",
      "\n"
     ]
    },
    {
     "cell_type": "code",
     "collapsed": false,
     "input": [
      "node_id = '1'\n",
      "node_id2 = '6'\n",
      "print 'Node # ',node_id\n",
      "print '\\nemitted power', S.save.save['saveopt']['epwr'][node_id]\n",
      "print 'sensitivity node', S.save.save['saveopt']['sens'][node_id]\n",
      "print 'type', S.save.save['saveopt']['type'][node_id]\n",
      "print '\\nAt time stamp 0:'\n",
      "print 'true position', S.save.save[node_id]['p'][0]\n",
      "print 'estimated position', S.save.save[node_id]['pe'][0]\n",
      "print '\\nOn rat1'\n",
      "print 'Received powers ',S.save.save[node_id][node_id2]['rat1']['Pr'][0]\n",
      "print 'TOA ',S.save.save[node_id][node_id2]['rat1']['TOA'][0]\n"
     ],
     "language": "python",
     "metadata": {},
     "outputs": []
    },
    {
     "cell_type": "markdown",
     "metadata": {},
     "source": [
      "saved data can also been import into Matlab directly.\n",
      "\n",
      "A '.mat' file is generated into yout <pyproject>/netsave directory"
     ]
    },
    {
     "cell_type": "markdown",
     "metadata": {},
     "source": [
      "# Simulation\n",
      "\n"
     ]
    },
    {
     "cell_type": "markdown",
     "metadata": {},
     "source": [
      "## Configuration files\n"
     ]
    },
    {
     "cell_type": "markdown",
     "metadata": {},
     "source": [
      "All the simulation can be configured with specific config files. A specific note book describe them."
     ]
    },
    {
     "cell_type": "code",
     "collapsed": false,
     "input": [
      "from IPython.display import FileLink\n",
      "FileLink('DOC-Config_files.ipynb')"
     ],
     "language": "python",
     "metadata": {},
     "outputs": []
    },
    {
     "cell_type": "markdown",
     "metadata": {},
     "source": [
      "All agents and anchors are gathers into a list of agent"
     ]
    },
    {
     "cell_type": "code",
     "collapsed": false,
     "input": [
      "S.lAg"
     ],
     "language": "python",
     "metadata": {},
     "outputs": []
    },
    {
     "cell_type": "markdown",
     "metadata": {},
     "source": [
      "# Mechanical Attributes\n",
      "\n",
      "Only concern moving agents\n",
      "\n",
      "\n",
      "\n",
      "    "
     ]
    },
    {
     "cell_type": "code",
     "collapsed": false,
     "input": [
      "\n",
      "print 'Agent ID:',S.lAg[0].meca.ID\n",
      "print 'Agent name:',S.lAg[0].meca.name\n",
      "print 'Agent mass:',S.lAg[0].meca.mass\n",
      "\n",
      "\n",
      "print '\\nposition vector:',S.lAg[0].meca.position\n",
      "print 'velocity vector:',S.lAg[0].meca.velocity\n",
      "print 'acceleration vector:',S.lAg[0].meca.acceleration\n",
      "\n",
      "print '\\nwaiting time in room:',S.lAg[0].meca.wait\n",
      "print 'coordinates of its target:',S.lAg[0].meca.destination\n",
      "print 'a list coordinates of its intermediate target:',S.lAg[0].meca.wp\n"
     ],
     "language": "python",
     "metadata": {},
     "outputs": []
    },
    {
     "cell_type": "markdown",
     "metadata": {},
     "source": [
      "# Network Attributes"
     ]
    },
    {
     "cell_type": "markdown",
     "metadata": {},
     "source": [
      "The network is a graph:\n",
      "\n",
      "* Nodes of the graph represent  Agents or access points\n",
      "* Edges of the graph represent radio link between nodes "
     ]
    },
    {
     "cell_type": "markdown",
     "metadata": {},
     "source": [
      "The node is a dictionnary which contains the following keys :\n",
      "\n",
      "* 'PN'  : Personnal Network ( described in the following)\n",
      "* 'RAT' : A list of RAT of which it belongs\n",
      "* 'p'   : true position\n",
      "* 'pe'  : estimated position if it has been computed by the node itself ( cf. location tutorial )\n",
      "* 't'   : A time stamp\n",
      "* 'type': Its type ( 'ag' : for agent or 'ap' for access point )\n",
      "\n",
      "example with node '1'"
     ]
    },
    {
     "cell_type": "code",
     "collapsed": false,
     "input": [
      "S.net.node['1']"
     ],
     "language": "python",
     "metadata": {},
     "outputs": []
    },
    {
     "cell_type": "markdown",
     "metadata": {},
     "source": [
      "Each node are link by the edge of the graph\n",
      "\n",
      "\n",
      "The edge is a dictionnary which contains the following keys :\n",
      "\n",
      "\n",
      "example with node '1'"
     ]
    },
    {
     "cell_type": "code",
     "collapsed": false,
     "input": [
      "S.net.edge['1']"
     ],
     "language": "python",
     "metadata": {},
     "outputs": []
    }
   ],
   "metadata": {}
  }
 ]
}