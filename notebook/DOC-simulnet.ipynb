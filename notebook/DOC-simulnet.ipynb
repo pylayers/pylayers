{
 "metadata": {
  "name": "DOC-simulnet"
 },
 "nbformat": 3,
 "nbformat_minor": 0,
 "worksheets": [
  {
   "cells": [
    {
     "cell_type": "heading",
     "level": 1,
     "metadata": {},
     "source": [
      "Simulation of a mobile network"
     ]
    },
    {
     "cell_type": "markdown",
     "metadata": {},
     "source": [
      "PyLayers is designed to provide indoor radio channel simulation for mobile agents. \n",
      "\n",
      "The goal is to adress different mobility issues coming up when dealing with heterogeneous network in indoor environement, with human being carriers of a mobile User Equipement (UE) which possibly embeds several Radio Acess Technology (RAT). \n",
      "\n",
      "Several human can be created and their motion in the environement should be as realistic as possible, because for many applications it turns our that many parameter of interest\n",
      "are stongly dependent of the dynamic topology of the mobile network. \n",
      "\n",
      "In the following the configuration file for proceeding with those high level `PyLayers` simulation is described. \n",
      "\n",
      "The configuration file is `simulnet.ini` \n"
     ]
    },
    {
     "cell_type": "heading",
     "level": 2,
     "metadata": {},
     "source": [
      "Running the simulation"
     ]
    },
    {
     "cell_type": "markdown",
     "metadata": {},
     "source": [
      "Once the following configuration files have been filled : \n",
      "\n",
      "    simulnet.ini \n",
      "    agent.ini\n",
      "    emsolver.ini \n",
      "    communication.ini\n",
      "    \n",
      "The simulation can be started with the method `runsimul`    "
     ]
    },
    {
     "cell_type": "code",
     "collapsed": false,
     "input": [
      "import pylayers.simul.simulnet as sn \n",
      "S = sn.Simul()\n",
      "# config\n",
      "S.sim_opt['duration']='10.'\n",
      "S.verbose=False\n",
      "# run\n",
      "S.runsimul()\n",
      "# just for closing an extra figure from notebook,\n",
      "plt.close()"
     ],
     "language": "python",
     "metadata": {},
     "outputs": [
      {
       "output_type": "stream",
       "stream": "stdout",
       "text": [
        "Layout graphs are loaded from  /home/uguen/Bureau/P1 /struc\n",
        "wait"
       ]
      },
      {
       "output_type": "stream",
       "stream": "stdout",
       "text": [
        " 0.1\n",
        "wait"
       ]
      },
      {
       "output_type": "stream",
       "stream": "stdout",
       "text": [
        " 0.1\n",
        "Processing save results, please wait"
       ]
      },
      {
       "output_type": "stream",
       "stream": "stdout",
       "text": [
        "\n"
       ]
      }
     ],
     "prompt_number": 4
    },
    {
     "cell_type": "heading",
     "level": 2,
     "metadata": {},
     "source": [
      "Analysis of the saved results"
     ]
    },
    {
     "cell_type": "markdown",
     "metadata": {},
     "source": [
      "Data are stored into `S.save.save` dictionnary. If asked in `simulnet.ini`, those data are stored in a `matfile` in `$BASENAME/netsave`"
     ]
    },
    {
     "cell_type": "code",
     "collapsed": false,
     "input": [
      "node_id = '1'\n",
      "node_id2 = '6'\n",
      "print 'Node # ',node_id\n",
      "print '\\nemitted power', S.save.save['saveopt']['epwr'][node_id]\n",
      "print 'sensitiagentvity node', S.save.save['saveopt']['sens'][node_id]\n",
      "print 'type', S.save.save['saveopt']['type'][node_id]\n",
      "print '\\nAt time stamp 0:'\n",
      "print 'true position', S.save.save[node_id]['p'][0]\n",
      "print 'estimated position', S.save.save[node_id]['pe'][0]\n",
      "print '\\nOn rat1'\n",
      "print 'Received powers ',S.save.save[node_id][node_id2]['rat1']['Pr'][0]\n",
      "print 'TOA ',S.save.save[node_id][node_id2]['rat1']['TOA'][0]\n"
     ],
     "language": "python",
     "metadata": {},
     "outputs": [
      {
       "output_type": "stream",
       "stream": "stdout",
       "text": [
        "Node #  1\n",
        "\n",
        "emitted power {'rat1': 0}\n",
        "sensitivity node {'rat1': -80}\n",
        "type ag\n",
        "\n",
        "At time stamp 0:\n",
        "true position [ 18.90762689   2.53145395]\n",
        "estimated position [ nan  nan]\n",
        "\n",
        "On rat1\n",
        "Received powers  [-90.7282282   3.       ]\n",
        "TOA  [ 63.25263999   0.3       ]\n"
       ]
      }
     ],
     "prompt_number": 2
    },
    {
     "cell_type": "heading",
     "level": 2,
     "metadata": {},
     "source": [
      "Description of inner organization of the Simulation object"
     ]
    },
    {
     "cell_type": "heading",
     "level": 3,
     "metadata": {},
     "source": [
      "Properties of mobile and static agents"
     ]
    },
    {
     "cell_type": "markdown",
     "metadata": {},
     "source": [
      "All agents (mobile and anchors) are gathered in a list of agents. Notice that anchors are static agents. "
     ]
    },
    {
     "cell_type": "code",
     "collapsed": false,
     "input": [
      "S.lAg"
     ],
     "language": "python",
     "metadata": {},
     "outputs": [
      {
       "metadata": {},
       "output_type": "pyout",
       "prompt_number": 3,
       "text": [
        "[<pylayers.mobility.agent.Agent at 0x36a2790>,\n",
        " <pylayers.mobility.agent.Agent at 0x36a2950>,\n",
        " <pylayers.mobility.agent.Agent at 0x36a2890>,\n",
        " <pylayers.mobility.agent.Agent at 0x36a2810>]"
       ]
      }
     ],
     "prompt_number": 3
    },
    {
     "cell_type": "markdown",
     "metadata": {},
     "source": [
      "All moving agents have the following mechanical attributes which have an influence on mobility.\n",
      "\n",
      "\n",
      "\n",
      "\n",
      "    "
     ]
    },
    {
     "cell_type": "code",
     "collapsed": false,
     "input": [
      "print 'Agent ID:',S.lAg[0].meca.ID\n",
      "print 'Agent name:',S.lAg[0].meca.name\n",
      "print 'Agent mass:',S.lAg[0].meca.mass\n",
      "\n",
      "\n",
      "print '\\nposition vector:',S.lAg[0].meca.position\n",
      "print 'velocity vector:',S.lAg[0].meca.velocity\n",
      "print 'acceleration vector:',S.lAg[0].meca.acceleration\n",
      "\n",
      "print '\\nwaiting time in room:',S.lAg[0].meca.wait\n",
      "print 'coordinates of its target:',S.lAg[0].meca.destination\n",
      "print 'a list coordinates of its intermediate target:',S.lAg[0].meca.wp\n"
     ],
     "language": "python",
     "metadata": {},
     "outputs": [
      {
       "output_type": "stream",
       "stream": "stdout",
       "text": [
        "Agent ID: 1\n",
        "Agent name: Person_ID1\n",
        "Agent mass: 80\n",
        "\n",
        "position vector: (30.0533, 2.7772, 0.0000)\n",
        "velocity vector: (0.1494, 0.8244, 0.0000)\n",
        "acceleration vector: (-0.0915, 0.4152, 0.0000)\n",
        "\n",
        "waiting time in room: 1.0\n",
        "coordinates of its target: (30.1670, 4.9950, 0.0000)\n",
        "a list coordinates of its intermediate target: [(18.900000000000002, 2.4975000000000005), (19.460999999999999, 4.9950000000000001), (30.167000000000002, 4.9950000000000001), (29.700000000000006, 2.4974999999999996)]\n"
       ]
      }
     ],
     "prompt_number": 5
    },
    {
     "cell_type": "heading",
     "level": 3,
     "metadata": {},
     "source": [
      "Network Attributes"
     ]
    },
    {
     "cell_type": "markdown",
     "metadata": {},
     "source": [
      "The Network class derived from `networkx` MultiDigraph\n",
      "\n",
      "* Nodes of the graph represent Agents or access points\n",
      "* Edges of the graph gather informations about radio links between nodes "
     ]
    },
    {
     "cell_type": "markdown",
     "metadata": {},
     "source": [
      "The node is a dictionnary which contains the following keys :\n",
      "\n",
      "* `PN`  : personnal network \n",
      "* `RAT` : list of RAT of which it belongs\n",
      "* `p`   : true position\n",
      "* `pe`  : estimated position if it has been computed by the node itself\n",
      "* `t`   : time stamp\n",
      "* `type` : type ( 'ag' : for agent or 'ap' for access point )\n",
      "\n",
      "example with node '1'"
     ]
    },
    {
     "cell_type": "code",
     "collapsed": false,
     "input": [
      "S.net.node['1']"
     ],
     "language": "python",
     "metadata": {},
     "outputs": [
      {
       "metadata": {},
       "output_type": "pyout",
       "prompt_number": 8,
       "text": [
        "{'PN': <pylayers.network.network.Network at 0x44cec90>,\n",
        " 'RAT': ['rat1'],\n",
        " 'epwr': {'rat1': 0},\n",
        " 'p': array([ 30.05326114,   2.77717435]),\n",
        " 'pe': array([], dtype=float64),\n",
        " 'sens': {'rat1': -80},\n",
        " 't': 9.999999999999984,\n",
        " 'type': 'ag'}"
       ]
      }
     ],
     "prompt_number": 8
    },
    {
     "cell_type": "markdown",
     "metadata": {},
     "source": [
      "Each node is linked by the edge of the graph\n",
      "\n",
      "\n",
      "The edge is a dictionnary which contains the following keys :"
     ]
    },
    {
     "cell_type": "code",
     "collapsed": false,
     "input": [
      "S.net.edge['1']"
     ],
     "language": "python",
     "metadata": {},
     "outputs": [
      {
       "metadata": {},
       "output_type": "pyout",
       "prompt_number": 6,
       "text": [
        "{'2': {'rat1': {'Pr': array([-81.94820689,   3.        ]),\n",
        "   'TOA': array([ 38.0497109,   0.3      ]),\n",
        "   'd': 11.023573418178282,\n",
        "   'vis': False}},\n",
        " '6': {'rat1': {'Pr': array([-106.37164016,    3.        ]),\n",
        "   'TOA': array([ 101.60198617,    0.3       ]),\n",
        "   'd': 29.546488340866638,\n",
        "   'vis': False}},\n",
        " '7': {'rat1': {'Pr': array([-121.84310299,    3.        ]),\n",
        "   'TOA': array([ 108.15846843,    0.3       ]),\n",
        "   'd': 31.441153129060169,\n",
        "   'vis': False}}}"
       ]
      }
     ],
     "prompt_number": 6
    },
    {
     "cell_type": "heading",
     "level": 2,
     "metadata": {},
     "source": [
      "Simulnet Configuration Files"
     ]
    },
    {
     "cell_type": "heading",
     "level": 3,
     "metadata": {},
     "source": [
      "Simulet.ini"
     ]
    },
    {
     "cell_type": "markdown",
     "metadata": {},
     "source": [
      "    [Mysql]\n",
      "    host = localhost\n",
      "    user = root\n",
      "    passwd = sqlsql\n",
      "    dbname = test\n",
      "    dumpdb =True\n",
      "    \n",
      "    [Save]\n",
      "    save=[]\n",
      "    ;save=['csv','mysql','matlab','pyray','txt','ini']\n",
      "    savep=True\n",
      "    \n",
      "    [Layout]\n",
      "    filename = TA-Office.ini\n",
      "    \n",
      "    x_offset  = 30\n",
      "    y_offset = 2\n",
      "    \n",
      "    the_world_width\t = 65\n",
      "    the_world_height = 20\n",
      "    the_world_scale\t = 20 \n",
      "    \n",
      "    [Mechanics]\n",
      "    ; update time for agent movement\n",
      "    mecanic_update_time = 0.1\n",
      "    ; select how agnt choose destiantion\n",
      "    ;'random' ; file\n",
      "    choose_destination = 'random'\n",
      "    \n",
      "    \n",
      "    [Network]\n",
      "    ; refresh TOA regulary 'synchro 'or with distance 'autonomous'\n",
      "    Communication_mode='autonomous'\n",
      "    ; update time for refreshing network\n",
      "    network_update_time = 0.1\n",
      "    ; show nodes moving & radio link\n",
      "    show = True \n",
      "    ; show in ipython notebook\n",
      "    ipython_nb_show = False \n",
      "    ; show signature ( not fully functionnal)\n",
      "    show_sg = False\n",
      "    ; show 2 tables : mecanic & network\n",
      "    show_table = False\n",
      "    ; show the same information but in terminal\n",
      "    dispinfo = False\n",
      "    \n",
      "    [Localization]\n",
      "    ; perform localization\n",
      "    localization = True\n",
      "    ; time to refresh localization\n",
      "    localization_update_time = 1.0\n",
      "    ; list of used methods\n",
      "    method = ['alg']\n",
      "    \n",
      "    \n",
      "    \n",
      "    [Simulation]\n",
      "    ; Simulation duration\n",
      "    duration = 35.0\n",
      "    ; speed ratio \n",
      "    speedratio = 1.\n",
      "    ; time for refreshing tk plot ( obsolete)\n",
      "    show_interval = 0.5\n",
      "    ; show scene using tk renderer ( obsolete)\n",
      "    showtk   = False\n",
      "    ; choose seed for random mobiliity\n",
      "    seed = 1\n",
      "    ; verbose output\n",
      "    verbose = True\n"
     ]
    },
    {
     "cell_type": "heading",
     "level": 3,
     "metadata": {},
     "source": [
      "agent.ini"
     ]
    },
    {
     "cell_type": "code",
     "collapsed": false,
     "input": [
      "%load '/home/uguen/Bureau/P1/ini/agent.ini'"
     ],
     "language": "python",
     "metadata": {},
     "outputs": [],
     "prompt_number": 10
    },
    {
     "cell_type": "markdown",
     "metadata": {},
     "source": [
      "    [used_agent]\n",
      "    list=['A1','A2','BS1','BS2']\n",
      "    ;list=['A1','A2']\n",
      "    \n",
      "    [A1]\n",
      "    name = John\n",
      "    ID = 1\n",
      "    type = ag\n",
      "    roomId = 0\n",
      "    pos=[]\n",
      "    RAT = ['rat1']\n",
      "    epwr = [0]\n",
      "    sensitivity  = [-80]\n",
      "    refreshRSS = 0.3\n",
      "    refreshTOA = 0.8\n",
      "    ; forbiden room number\n",
      "    froom = [3,27,26,25,16,28,24,18,17,23,22,21,19,20,10,11]\n",
      "    ; mean wait time in room\n",
      "    wait = 1.0\n",
      "    \n",
      "    condition= \"distance:'<5';node:'all';rat:'all';message:['d','pe'];and\"\n",
      "               \"distance:'>10';node:'all';rat:'rat2';message:['pe'];\"\n",
      "    \n",
      "    \n",
      "    \n",
      "    \n",
      "    [A2]\n",
      "    name = Steve\n",
      "    ID = 2\n",
      "    type = ag\n",
      "    roomId = 15\n",
      "    pos=[]\n",
      "    RAT = ['rat1']\n",
      "    epwr = [0]\n",
      "    sensitivity  = [-80]\n",
      "    refreshRSS = 0.4\n",
      "    refreshTOA = 0.7\n",
      "    ; forbiden room number\n",
      "    froom = [3,27,26,25,16,28,24,18,17,23,22,21,19,20,10,11]\n",
      "    ; mean wait time in room\n",
      "    wait = 1.0\n",
      "    \n",
      "    \n",
      "    condition= \"distance:'<5';node:'all';rat:'rat1';message:['d','pe'];and\"\n",
      "               \"distance:'>10';node:'all';rat:'rat2';message:['pe'];\"\n",
      "    \n",
      "    [A3]\n",
      "    name = Peter\n",
      "    ID = 3\n",
      "    type = ag\n",
      "    roomId = 2\n",
      "    pos=[]\n",
      "    RAT = ['rat1','rat2']\t\n",
      "    epwr = [0,0]\n",
      "    sensitivity  = [-80,-80]\n",
      "    refreshRSS = 0.5\n",
      "    refreshTOA = 0.5\n",
      "    ; forbiden room number\n",
      "    froom = [3,27,26,25,16,28,24,18,17,23,22,21,19,20,10,11]\n",
      "    ; mean wait time in room\n",
      "    wait = 1.0\n",
      "    \n",
      "    \n",
      "    condition= \"distance:'<5';node:'all';rat:'rat1';message:['d','pe'];and\"\n",
      "               \"distance:'>10';node:'all';rat:'rat2';message:['pe'];\"\n",
      "    \n",
      "    \n",
      "    [A4]\n",
      "    name = Mike\n",
      "    ID = 4\n",
      "    type = ag\n",
      "    roomId = 8\n",
      "    pos=[]\n",
      "    RAT = ['wifi','bt','lte']\t\n",
      "    epwr = [0,0,0]\n",
      "    sensitivity  = [-80,-80,-80]\n",
      "    refreshRSS = 0.5\n",
      "    refreshTOA = 0.5\n",
      "    ; forbiden room number\n",
      "    froom = [3,27,26,25,16,28,24,18,17,23,22,21,19,20,10,11]\n",
      "    ; mean wait time in room\n",
      "    wait = 1.0\n",
      "    \n",
      "    \n",
      "    [A5]\n",
      "    name = Micheal\n",
      "    ID = 5\n",
      "    type = ag\n",
      "    roomId = 15\n",
      "    pos=[]\n",
      "    RAT = ['wifi','bt','lte']\t\n",
      "    epwr = [0,0,0]\n",
      "    sensitivity  = [-80,-80,-80]\n",
      "    refreshRSS = 0.5\n",
      "    refreshTOA = 0.5\n",
      "    ; forbiden room number\n",
      "    froom = [3,27,26,25,16,28,24,18,17,23,22,21,19,20,10,11]\n",
      "    ; mean wait time in room\n",
      "    wait = 1.0\n",
      "    \n",
      "    \n",
      "    [BS1]\n",
      "    name = AP1\n",
      "    ID = 6\n",
      "    type = ap\n",
      "    roomId = -1\n",
      "    ;pos= [-5,5]\n",
      "    pos= [0.5,2.]\n",
      "    RAT = ['rat1']\t\n",
      "    epwr = [0]\n",
      "    sensitivity  = [-80]\n",
      "    refreshRSS = 0.5\n",
      "    refreshTOA = 0.5\n",
      "    ; forbiden room number\n",
      "    froom = [3,27,26,25,16,28,24,18,17,23,22,21,19,20,10,11]\n",
      "    ; mean wait time in room\n",
      "    wait = 1.0\n",
      "    \n",
      "    condition= \"distance:'<5';node:'all';rat:'rat1';message:['d','pe'];and\"\n",
      "    \n",
      "    \n",
      "    [BS2]\n",
      "    name = BS2\n",
      "    ID = 7\n",
      "    type = ap\n",
      "    roomId = -1\n",
      "    ;pos= [70,5]\n",
      "    pos= [0.7,14]\n",
      "    RAT = ['rat1']\t\n",
      "    epwr = [0]\n",
      "    sensitivity  = [-80]\n",
      "    refreshRSS = 0.5\n",
      "    refreshTOA = 0.5\n",
      "    ; forbiden room number\n",
      "    froom = [3,27,26,25,16,28,24,18,17,23,22,21,19,20,10,11]\n",
      "    ; mean wait time in room\n",
      "    wait = 1.0\n",
      "    \n",
      "    condition= \"distance:'<5';node:'all';rat:'rat1';message:['d','pe'];and\"\n",
      "    \n",
      "    [BS3]\n",
      "    name = BS3\n",
      "    ID = 8\n",
      "    type = ap\n",
      "    roomId = -1\n",
      "    ;pos= [0,20]\n",
      "    pos= [39.,13.]\n",
      "    RAT = ['rat1']\n",
      "    epwr = [0]\n",
      "    sensitivity  = [-80]\n",
      "    refreshRSS = 0.5\n",
      "    refreshTOA = 0.5\n",
      "    ; forbiden room number\n",
      "    froom = [3,27,26,25,16,28,24,18,17,23,22,21,19,20,10,11]\n",
      "    ; mean wait time in room\n",
      "    wait = 1.0\n",
      "    \n",
      "    condition= \"distance:'<5';node:'all';rat:'rat1';message:['d','pe'];and\"\n",
      "    \n",
      "    [BS4]\n",
      "    name = BS4\n",
      "    ID = 9\n",
      "    type = ap\n",
      "    roomId = -1\n",
      "    pos= [70,20]\n",
      "    RAT = ['rat1']\t\n",
      "    epwr = [0]\n",
      "    sensitivity  = [-80]\n",
      "    refreshRSS = 0.5\n",
      "    refreshTOA = 0.5\n",
      "    ; forbiden room number\n",
      "    froom = [3,27,26,25,16,28,24,18,17,23,22,21,19,20,10,11]\n",
      "    ; mean wait time in room\n",
      "    wait = 1.0\n",
      "    \n",
      "    \n",
      "    condition= \"distance:'<5';node:'all';rat:'rat1';message:['d','pe'];and\"\n"
     ]
    },
    {
     "cell_type": "heading",
     "level": 3,
     "metadata": {},
     "source": [
      "emsolver.ini"
     ]
    },
    {
     "cell_type": "code",
     "collapsed": false,
     "input": [
      "%load '/home/uguen/Bureau/P1/ini/EMSolver.ini'"
     ],
     "language": "python",
     "metadata": {},
     "outputs": [],
     "prompt_number": 13
    },
    {
     "cell_type": "markdown",
     "metadata": {},
     "source": [
      "    [EMS_config]\n",
      "    method = multiwall\n",
      "    \n",
      "    [TOA]\n",
      "    sigmatoa = 1.0\n",
      "    \n",
      "    [rat1_PLM]\n",
      "    sigrss = 3.0\n",
      "    f = 3.0\n",
      "    rssnp = 2.64\n",
      "    d0 = 1.0\n",
      "    method = mode\n",
      "    \n",
      "    [rat3_PLM]\n",
      "    sigrss = 3.0\n",
      "    f = 3.0\n",
      "    rssnp = 2.64\n",
      "    d0 = 1.0\n",
      "    method = mode\n",
      "    \n",
      "    [rat2_PLM]\n",
      "    sigrss = 3.0\n",
      "    f = 3.0\n",
      "    rssnp = 2.64\n",
      "    d0 = 1.0\n",
      "    method = mode\n",
      "    \n"
     ]
    },
    {
     "cell_type": "heading",
     "level": 3,
     "metadata": {},
     "source": [
      "communication.ini"
     ]
    },
    {
     "cell_type": "code",
     "collapsed": false,
     "input": [
      "%load '/home/uguen/Bureau/P1/ini/communication.ini'"
     ],
     "language": "python",
     "metadata": {},
     "outputs": [],
     "prompt_number": 14
    },
    {
     "cell_type": "markdown",
     "metadata": {},
     "source": [
      "    [1]\n",
      "    \n",
      "    rat = ['rat1']\n",
      "    rule = [\"always\"]\n",
      "    action = [\"range\"]\n",
      "    \n",
      "    [2]\n",
      "    \n",
      "    rat = ['rat1']\n",
      "    rule = [\"always\"]\n",
      "    action = [\"range\"]\n"
     ]
    }
   ],
   "metadata": {}
  }
 ]
}