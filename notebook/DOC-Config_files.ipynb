{
 "metadata": {
  "name": "DOC-Config_files"
 },
 "nbformat": 3,
 "nbformat_minor": 0,
 "worksheets": [
  {
   "cells": [
    {
     "cell_type": "code",
     "collapsed": false,
     "input": [
      "import ConfigParser"
     ],
     "language": "python",
     "metadata": {},
     "outputs": [],
     "prompt_number": 3
    },
    {
     "cell_type": "markdown",
     "metadata": {},
     "source": [
      "This notebook describe the configuration files required for run a simulnet simulation.\n",
      "That precise simulator is describe in "
     ]
    },
    {
     "cell_type": "code",
     "collapsed": false,
     "input": [
      "from IPython.display import FileLink\n",
      "FileLink('DOC-simulnet.ipynb')"
     ],
     "language": "python",
     "metadata": {},
     "outputs": [
      {
       "html": [
        "<a href='files/DOC-simulnet.ipynb' target='_blank'>DOC-simulnet.ipynb</a><br>"
       ],
       "metadata": {},
       "output_type": "pyout",
       "prompt_number": 4,
       "text": [
        "/private/staff/t/ot/niamiot/Documents/Code/pylayers/notebook/DOC-simulnet.ipynb"
       ]
      }
     ],
     "prompt_number": 4
    },
    {
     "cell_type": "markdown",
     "metadata": {},
     "source": [
      "# Simulnet.ini\n",
      "This file is in \"pyprojet\"/ini"
     ]
    },
    {
     "cell_type": "code",
     "collapsed": false,
     "input": [
      "Cp = ConfigParser.ConfigParser()\n",
      "Cp.read(pyu.getlong('simulnet.ini','ini'))"
     ],
     "language": "python",
     "metadata": {},
     "outputs": [
      {
       "metadata": {},
       "output_type": "pyout",
       "prompt_number": 5,
       "text": [
        "['/private/staff/t/ot/niamiot/Bureau/P1/ini/simulnet.ini']"
       ]
      }
     ],
     "prompt_number": 5
    },
    {
     "cell_type": "markdown",
     "metadata": {},
     "source": [
      "Simulnet.ini contains several sections"
     ]
    },
    {
     "cell_type": "code",
     "collapsed": false,
     "input": [
      "Cp.sections()"
     ],
     "language": "python",
     "metadata": {},
     "outputs": [
      {
       "metadata": {},
       "output_type": "pyout",
       "prompt_number": 8,
       "text": [
        "['Mysql',\n",
        " 'Save',\n",
        " 'Layout',\n",
        " 'Mechanics',\n",
        " 'Network',\n",
        " 'Localization',\n",
        " 'Simulation']"
       ]
      }
     ],
     "prompt_number": 8
    },
    {
     "cell_type": "markdown",
     "metadata": {},
     "source": [
      "## Save\n",
      "This section allow to setup save options."
     ]
    },
    {
     "cell_type": "code",
     "collapsed": false,
     "input": [
      "dict(Cp.items('Save'))"
     ],
     "language": "python",
     "metadata": {},
     "outputs": [
      {
       "metadata": {},
       "output_type": "pyout",
       "prompt_number": 15,
       "text": [
        "{'save': '[]', 'savep': 'True'}"
       ]
      }
     ],
     "prompt_number": 15
    },
    {
     "cell_type": "markdown",
     "metadata": {},
     "source": [
      "The 'savep' boolean enable/disable save of the simulation."
     ]
    },
    {
     "cell_type": "code",
     "collapsed": false,
     "input": [
      "dict(Cp.items('Save'))['savep']"
     ],
     "language": "python",
     "metadata": {},
     "outputs": [
      {
       "metadata": {},
       "output_type": "pyout",
       "prompt_number": 13,
       "text": [
        "'True'"
       ]
      }
     ],
     "prompt_number": 13
    },
    {
     "cell_type": "markdown",
     "metadata": {},
     "source": [
      "## Layout\n",
      "\n",
      "This section allow setup the layout for the simulation "
     ]
    },
    {
     "cell_type": "code",
     "collapsed": false,
     "input": [
      "dict(Cp.items('Layout'))"
     ],
     "language": "python",
     "metadata": {},
     "outputs": [
      {
       "metadata": {},
       "output_type": "pyout",
       "prompt_number": 14,
       "text": [
        "{'filename': 'plan_scenario.ini',\n",
        " 'the_world_height': '20',\n",
        " 'the_world_scale': '20',\n",
        " 'the_world_width': '65',\n",
        " 'x_offset': '30',\n",
        " 'y_offset': '2'}"
       ]
      }
     ],
     "prompt_number": 14
    },
    {
     "cell_type": "markdown",
     "metadata": {},
     "source": [
      "Choose the used Layout for simulation"
     ]
    },
    {
     "cell_type": "code",
     "collapsed": false,
     "input": [
      "dict(Cp.items('Layout'))['filename']"
     ],
     "language": "python",
     "metadata": {},
     "outputs": [
      {
       "metadata": {},
       "output_type": "pyout",
       "prompt_number": 16,
       "text": [
        "'plan_scenario.ini'"
       ]
      }
     ],
     "prompt_number": 16
    },
    {
     "cell_type": "markdown",
     "metadata": {},
     "source": [
      "Setup an offset on the origin of axis"
     ]
    },
    {
     "cell_type": "code",
     "collapsed": false,
     "input": [
      "print dict(Cp.items('Layout'))['x_offset']\n",
      "print dict(Cp.items('Layout'))['y_offset']"
     ],
     "language": "python",
     "metadata": {},
     "outputs": [
      {
       "output_type": "stream",
       "stream": "stdout",
       "text": [
        "30\n",
        "2\n"
       ]
      }
     ],
     "prompt_number": 18
    },
    {
     "cell_type": "markdown",
     "metadata": {},
     "source": [
      "## Network"
     ]
    },
    {
     "cell_type": "code",
     "collapsed": false,
     "input": [
      "dict(Cp.items('Network'))"
     ],
     "language": "python",
     "metadata": {},
     "outputs": [
      {
       "metadata": {},
       "output_type": "pyout",
       "prompt_number": 19,
       "text": [
        "{'communication_mode': \"'autonomous'\",\n",
        " 'dispinfo': 'False',\n",
        " 'ipython_nb_show': 'False',\n",
        " 'network_update_time': '0.1',\n",
        " 'show': 'True',\n",
        " 'show_sg': 'False',\n",
        " 'show_table': 'False'}"
       ]
      }
     ],
     "prompt_number": 19
    },
    {
     "cell_type": "markdown",
     "metadata": {},
     "source": [
      "Setup communication mode between node:\n",
      "\n",
      "+ autonomous : the data exchange between nodes is driven by the localization layer. If more information is required to estimate the position a communication request is send to the communication stae\n",
      "+ synchro : the data exchange between nodes is periodic. LDPs are periodically refreshed at the network_update_time"
     ]
    },
    {
     "cell_type": "code",
     "collapsed": false,
     "input": [
      "dict(Cp.items('Network'))['communication_mode']"
     ],
     "language": "python",
     "metadata": {},
     "outputs": []
    },
    {
     "cell_type": "markdown",
     "metadata": {},
     "source": [
      "Time step for the refresh network information\n"
     ]
    },
    {
     "cell_type": "code",
     "collapsed": false,
     "input": [
      "dict(Cp.items('Network'))['network_update_time']"
     ],
     "language": "python",
     "metadata": {},
     "outputs": [
      {
       "metadata": {},
       "output_type": "pyout",
       "prompt_number": 20,
       "text": [
        "'0.1'"
       ]
      }
     ],
     "prompt_number": 20
    },
    {
     "cell_type": "markdown",
     "metadata": {},
     "source": [
      "Vizualization of the simulation using matplotlib"
     ]
    },
    {
     "cell_type": "code",
     "collapsed": false,
     "input": [
      "dict(Cp.items('Network'))['show']"
     ],
     "language": "python",
     "metadata": {},
     "outputs": []
    },
    {
     "cell_type": "markdown",
     "metadata": {},
     "source": [
      "Vizualization of a table summing up the data exchange of the nodes"
     ]
    },
    {
     "cell_type": "code",
     "collapsed": false,
     "input": [
      "dict(Cp.items('Network'))['show_table']"
     ],
     "language": "python",
     "metadata": {},
     "outputs": [
      {
       "metadata": {},
       "output_type": "pyout",
       "prompt_number": 21,
       "text": [
        "'False'"
       ]
      }
     ],
     "prompt_number": 21
    },
    {
     "cell_type": "markdown",
     "metadata": {},
     "source": [
      "Vizualization of the simulation inside ipython notebook "
     ]
    },
    {
     "cell_type": "code",
     "collapsed": false,
     "input": [
      "dict(Cp.items('Network'))['ipython_nb_show']"
     ],
     "language": "python",
     "metadata": {},
     "outputs": []
    },
    {
     "cell_type": "markdown",
     "metadata": {},
     "source": [
      "## Mechanics\n",
      "\n",
      "This section allow to setup the agent movement during simulation"
     ]
    },
    {
     "cell_type": "code",
     "collapsed": false,
     "input": [
      "dict(Cp.items('Mechanics'))"
     ],
     "language": "python",
     "metadata": {},
     "outputs": [
      {
       "metadata": {},
       "output_type": "pyout",
       "prompt_number": 22,
       "text": [
        "{'choose_destination': \"'random'\", 'mecanic_update_time': '0.1'}"
       ]
      }
     ],
     "prompt_number": 22
    },
    {
     "cell_type": "markdown",
     "metadata": {},
     "source": [
      "Setup how agent choose their target:\n",
      "\n",
      "+ random : the agnet move into the layout randomly\n",
      "+ file : the agent follow the sequence specified in <project_dir>/nodes_destination.ini"
     ]
    },
    {
     "cell_type": "code",
     "collapsed": false,
     "input": [
      "dict(Cp.items('Mechanics'))['choose_destination']"
     ],
     "language": "python",
     "metadata": {},
     "outputs": [
      {
       "metadata": {},
       "output_type": "pyout",
       "prompt_number": 23,
       "text": [
        "\"'random'\""
       ]
      }
     ],
     "prompt_number": 23
    },
    {
     "cell_type": "markdown",
     "metadata": {},
     "source": [
      "Time step for refreshing the mechanical layer (ground truth position) \n"
     ]
    },
    {
     "cell_type": "code",
     "collapsed": false,
     "input": [
      "dict(Cp.items('Mechanics'))['mecanic_update_time']"
     ],
     "language": "python",
     "metadata": {},
     "outputs": [
      {
       "metadata": {},
       "output_type": "pyout",
       "prompt_number": 24,
       "text": [
        "'0.1'"
       ]
      }
     ],
     "prompt_number": 24
    },
    {
     "cell_type": "markdown",
     "metadata": {},
     "source": [
      "## Localization\n",
      "Setup Localization algorithms"
     ]
    },
    {
     "cell_type": "code",
     "collapsed": false,
     "input": [
      "dict(Cp.items('Localization'))"
     ],
     "language": "python",
     "metadata": {},
     "outputs": [
      {
       "metadata": {},
       "output_type": "pyout",
       "prompt_number": 25,
       "text": [
        "{'localization': 'True',\n",
        " 'localization_update_time': '1.0',\n",
        " 'method': \"['alg','geo']\"}"
       ]
      }
     ],
     "prompt_number": 25
    },
    {
     "cell_type": "markdown",
     "metadata": {},
     "source": [
      "enable/disable localizaiton of the agents"
     ]
    },
    {
     "cell_type": "code",
     "collapsed": false,
     "input": [
      "dict(Cp.items('Localization'))['localization']"
     ],
     "language": "python",
     "metadata": {},
     "outputs": [
      {
       "metadata": {},
       "output_type": "pyout",
       "prompt_number": 26,
       "text": [
        "'True'"
       ]
      }
     ],
     "prompt_number": 26
    },
    {
     "cell_type": "markdown",
     "metadata": {},
     "source": [
      "Select localization methods :\n",
      "\n",
      "+ Algebraic : h\u00e9t\u00e9rogeneous localization algorithm\n",
      "+ Geometric : RGPA "
     ]
    },
    {
     "cell_type": "code",
     "collapsed": false,
     "input": [
      "dict(Cp.items('Localization'))['method']"
     ],
     "language": "python",
     "metadata": {},
     "outputs": [
      {
       "metadata": {},
       "output_type": "pyout",
       "prompt_number": 27,
       "text": [
        "\"['alg','geo']\""
       ]
      }
     ],
     "prompt_number": 27
    },
    {
     "cell_type": "markdown",
     "metadata": {},
     "source": [
      "Time step for localization update"
     ]
    },
    {
     "cell_type": "code",
     "collapsed": false,
     "input": [
      "dict(Cp.items('Localization'))['localization_update_time']"
     ],
     "language": "python",
     "metadata": {},
     "outputs": [
      {
       "metadata": {},
       "output_type": "pyout",
       "prompt_number": 28,
       "text": [
        "'1.0'"
       ]
      }
     ],
     "prompt_number": 28
    },
    {
     "cell_type": "code",
     "collapsed": false,
     "input": [],
     "language": "python",
     "metadata": {},
     "outputs": []
    },
    {
     "cell_type": "markdown",
     "metadata": {},
     "source": [
      "## Simulation"
     ]
    },
    {
     "cell_type": "code",
     "collapsed": false,
     "input": [
      "dict(Cp.items('Simulation'))\n"
     ],
     "language": "python",
     "metadata": {},
     "outputs": [
      {
       "metadata": {},
       "output_type": "pyout",
       "prompt_number": 29,
       "text": [
        "{'duration': '20.0',\n",
        " 'seed': '1',\n",
        " 'show_interval': '0.5',\n",
        " 'showtk': 'False',\n",
        " 'speedratio': '1.',\n",
        " 'verbose': 'True'}"
       ]
      }
     ],
     "prompt_number": 29
    },
    {
     "cell_type": "markdown",
     "metadata": {},
     "source": [
      "Setup simulation duration in second"
     ]
    },
    {
     "cell_type": "code",
     "collapsed": false,
     "input": [
      "dict(Cp.items('Simulation'))['duration']\n"
     ],
     "language": "python",
     "metadata": {},
     "outputs": []
    },
    {
     "cell_type": "markdown",
     "metadata": {},
     "source": [
      "Setup random seed for simulation"
     ]
    },
    {
     "cell_type": "code",
     "collapsed": false,
     "input": [
      "dict(Cp.items('Simulation'))['seed']\n"
     ],
     "language": "python",
     "metadata": {},
     "outputs": [
      {
       "metadata": {},
       "output_type": "pyout",
       "prompt_number": 30,
       "text": [
        "'1'"
       ]
      }
     ],
     "prompt_number": 30
    },
    {
     "cell_type": "markdown",
     "metadata": {},
     "source": [
      "Display messages during simulation"
     ]
    },
    {
     "cell_type": "code",
     "collapsed": false,
     "input": [
      "dict(Cp.items('Simulation'))['verbose']\n"
     ],
     "language": "python",
     "metadata": {},
     "outputs": [
      {
       "metadata": {},
       "output_type": "pyout",
       "prompt_number": 31,
       "text": [
        "'True'"
       ]
      }
     ],
     "prompt_number": 31
    },
    {
     "cell_type": "code",
     "collapsed": false,
     "input": [],
     "language": "python",
     "metadata": {},
     "outputs": []
    }
   ],
   "metadata": {}
  }
 ]
}