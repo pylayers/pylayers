{
 "metadata": {
  "name": "tuto_simulnet"
 },
 "nbformat": 3,
 "nbformat_minor": 0,
 "worksheets": [
  {
   "cells": [
    {
     "cell_type": "markdown",
     "metadata": {},
     "source": [
      "# A 2 minutes tutorial"
     ]
    },
    {
     "cell_type": "markdown",
     "metadata": {},
     "source": [
      "## 1. Run the simulation"
     ]
    },
    {
     "cell_type": "code",
     "collapsed": false,
     "input": [
      "from pylayers.simul.simulnet import *\n",
      "S=Simul()\n",
      "S.sim_opt['duration']=3.\n",
      "S.runsimul()\n",
      "\n",
      "# just for closing an extra figure from notebook,\n",
      "plt.close()\n",
      "\n"
     ],
     "language": "python",
     "metadata": {},
     "outputs": [
      {
       "output_type": "display_data",
       "png": "[encoded data removed]",
       "text": [
        "<matplotlib.figure.Figure at 0xbba15cc>"
       ]
      },
      {
       "output_type": "stream",
       "stream": "stdout",
       "text": [
        "Processing save results, please wait"
       ]
      },
      {
       "output_type": "stream",
       "stream": "stdout",
       "text": [
        "\n"
       ]
      }
     ],
     "prompt_number": 1
    },
    {
     "cell_type": "markdown",
     "metadata": {},
     "source": [
      "## 2 show the save results\n",
      "\n"
     ]
    },
    {
     "cell_type": "markdown",
     "metadata": {},
     "source": [
      "Data are into a dictionnary:\n",
      "\n"
     ]
    },
    {
     "cell_type": "code",
     "collapsed": false,
     "input": [
      "node_id = '1'\n",
      "print 'Node # ',node_id\n",
      "print '\\nemitted power', S.save.savemat[node_id]['epwr']\n",
      "print 'sensitivity node', S.save.savemat[node_id]['sens']\n",
      "print 'type', S.save.savemat[node_id]['type']\n",
      "print 'true position', S.save.savemat[node_id]['p']\n",
      "print 'estimated position', S.save.savemat[node_id]['pe']\n",
      "\n",
      "print '\\nOn rat1'\n",
      "print 'Received powers ',S.save.savemat[node_id]['rat1']['Pr']\n",
      "print 'TOA ',S.save.savemat[node_id]['rat1']['TOA']\n"
     ],
     "language": "python",
     "metadata": {},
     "outputs": [
      {
       "output_type": "stream",
       "stream": "stdout",
       "text": [
        "Node #  1\n",
        "\n",
        "emitted power {'rat1': 0}\n",
        "sensitivity node {'rat1': -80}\n",
        "type ag\n",
        "true position [[ 2.70405608  2.53206276]\n",
        " [ 2.89421798  4.1524982 ]\n",
        " [ 3.07865799  6.32952594]\n",
        " [ 3.06582477  8.71435281]]\n",
        "estimated position [[ 2.31197125  2.09363868]\n",
        " [ 2.85327409  5.74837864]]\n",
        "\n",
        "On rat1\n",
        "Received powers  dict_items([('9', array([[-97.69400029,   3.        ],\n",
        "       [-91.17305596,   3.        ],\n",
        "       [-82.31729713,   3.        ],\n",
        "       [-80.10453814,   3.        ]])), ('8', array([[-82.11878139,   3.        ],\n",
        "       [-74.93853323,   3.        ],\n",
        "       [-73.14281527,   3.        ],\n",
        "       [-79.09071805,   3.        ]])), ('7', array([[-80.60860236,   3.        ],\n",
        "       [-74.13326178,   3.        ],\n",
        "       [-71.94494911,   3.        ],\n",
        "       [-69.09336876,   3.        ]])), ('6', array([[-81.70032811,   3.        ],\n",
        "       [-81.68667986,   3.        ],\n",
        "       [-91.23963085,   3.        ],\n",
        "       [-89.02955731,   3.        ]]))])\n",
        "TOA  {'9': array([[ 55.92392381,   0.9       ],\n",
        "       [ 52.08096755,   0.9       ],\n",
        "       [ 47.55759794,   0.9       ],\n",
        "       [ 44.72082968,   0.9       ]]), '8': array([[ 39.07947621,   0.9       ],\n",
        "       [ 34.18867723,   0.9       ],\n",
        "       [ 28.45315433,   0.9       ],\n",
        "       [ 23.83924357,   0.9       ]]), '7': array([[ 40.05824774,   0.9       ],\n",
        "       [ 35.01840753,   0.9       ],\n",
        "       [ 28.88963446,   0.9       ],\n",
        "       [ 22.16806196,   0.9       ]]), '6': array([[ 44.90169959,   0.9       ],\n",
        "       [ 44.55096491,   0.9       ],\n",
        "       [ 45.11665547,   0.9       ],\n",
        "       [ 47.29525827,   0.9       ]])}\n"
       ]
      }
     ],
     "prompt_number": 37
    },
    {
     "cell_type": "markdown",
     "metadata": {},
     "source": [
      "# Simulation\n",
      "\n",
      "All agents and anchors are gathers into a list of agent"
     ]
    },
    {
     "cell_type": "code",
     "collapsed": false,
     "input": [
      "S.lAg"
     ],
     "language": "python",
     "metadata": {},
     "outputs": [
      {
       "output_type": "pyout",
       "prompt_number": 2,
       "text": [
        "[<pylayers.mobility.agent.Agent at 0xbe11a8c>,\n",
        " <pylayers.mobility.agent.Agent at 0xbe0f06c>,\n",
        " <pylayers.mobility.agent.Agent at 0xbe15aac>,\n",
        " <pylayers.mobility.agent.Agent at 0xbe33a6c>,\n",
        " <pylayers.mobility.agent.Agent at 0xbe1b02c>,\n",
        " <pylayers.mobility.agent.Agent at 0xbe2836c>]"
       ]
      }
     ],
     "prompt_number": 2
    },
    {
     "cell_type": "markdown",
     "metadata": {},
     "source": [
      "# Mechanical Attributes\n",
      "\n",
      "Only concern moving agents\n",
      "\n",
      "\n",
      "\n",
      "    "
     ]
    },
    {
     "cell_type": "code",
     "collapsed": false,
     "input": [
      "\n",
      "print 'Agent ID:',S.lAg[0].meca.ID\n",
      "print 'Agent name:',S.lAg[0].meca.name\n",
      "print 'Agent mass:',S.lAg[0].meca.mass\n",
      "\n",
      "\n",
      "print '\\nposition vector:',S.lAg[0].meca.position\n",
      "print 'velocity vector:',S.lAg[0].meca.velocity\n",
      "print 'acceleration vector:',S.lAg[0].meca.acceleration\n",
      "\n",
      "print '\\nwaiting time in room:',S.lAg[0].meca.wait\n",
      "print 'coordinates of its target:',S.lAg[0].meca.destination\n",
      "print 'a list coordinates of its intermediate target:',S.lAg[0].meca.wp\n"
     ],
     "language": "python",
     "metadata": {},
     "outputs": [
      {
       "output_type": "stream",
       "stream": "stdout",
       "text": [
        "Agent ID: 1\n",
        "Agent name: Person_ID1\n",
        "Agent mass: 80\n",
        "\n",
        "position vector: (5.7881, 7.0533, 0.0000)\n",
        "velocity vector: (1.1378, 0.3814, 0.0000)\n",
        "acceleration vector: (0.9803, -0.1291, 0.0000)\n",
        "\n",
        "waiting time in room: 0.1\n",
        "coordinates of its target: (24.7396, 9.9975, 0.0000)\n",
        "a listcoordinates of its intermediate target: [(2.7000000476837158, 2.4974999427795406), (2.9930875301361084, 4.994999885559082), (24.739631652832031, 9.9975004196166992), (24.300000190734867, 12.498750209808348)]\n"
       ]
      }
     ],
     "prompt_number": 22
    },
    {
     "cell_type": "markdown",
     "metadata": {},
     "source": [
      "# Network Attributes"
     ]
    },
    {
     "cell_type": "markdown",
     "metadata": {},
     "source": [
      "The network is a graph:\n",
      "\n",
      "* Nodes of the graph represent  Agents or access points\n",
      "* Edges of the graph represent radio link between nodes "
     ]
    },
    {
     "cell_type": "markdown",
     "metadata": {},
     "source": [
      "The node is a dictionnary which contains the following keys :\n",
      "\n",
      "* 'PN'  : Personnal Network ( described in the following)\n",
      "* 'RAT' : A list of RAT of which it belongs\n",
      "* 'p'   : true position\n",
      "* 'pe'  : estimated position if it has been computed by the node itself ( cf. location tutorial )\n",
      "* 't'   : A time stamp\n",
      "* 'type': Its type ( 'ag' : for agent or 'ap' for access point )\n",
      "\n",
      "example with node '1'"
     ]
    },
    {
     "cell_type": "code",
     "collapsed": false,
     "input": [
      "S.net.node['1']"
     ],
     "language": "python",
     "metadata": {},
     "outputs": [
      {
       "output_type": "pyout",
       "prompt_number": 7,
       "text": [
        "{'PN': <pylayers.network.network.Network at 0xbe2314c>,\n",
        " 'RAT': ['rat1'],\n",
        " 'epwr': {'rat1': 0},\n",
        " 'p': array([ 3.06582477,  8.71435281]),\n",
        " 'pe': array([ 2.85327409,  5.74837864]),\n",
        " 'pe_clust': array([[ 2.84774521,  5.72839609],\n",
        "       [ 2.54745227,  5.74960461]]),\n",
        " 'pe_geo': array([ 2.85327409,  5.74837864]),\n",
        " 'sens': {'rat1': -80},\n",
        " 't': 1361279389.714091,\n",
        " 'type': 'ag'}"
       ]
      }
     ],
     "prompt_number": 7
    },
    {
     "cell_type": "markdown",
     "metadata": {},
     "source": [
      "Each node are link by the edge of the graph\n",
      "\n",
      "\n",
      "The edge is a dictionnary which contains the following keys :\n",
      "\n",
      "\n",
      "example with node '1'"
     ]
    },
    {
     "cell_type": "code",
     "collapsed": false,
     "input": [
      "S.net.edge['1']"
     ],
     "language": "python",
     "metadata": {},
     "outputs": [
      {
       "output_type": "pyout",
       "prompt_number": 9,
       "text": [
        "{'6': {'rat1': {'Pr': array([-89.02955731,   3.        ]),\n",
        "   'TOA': array([ 47.29525827,   0.9       ]),\n",
        "   'd': 13.781099959660285,\n",
        "   'vis': False}},\n",
        " '7': {'rat1': {'Pr': array([-69.09336876,   3.        ]),\n",
        "   'TOA': array([ 22.16806196,   0.9       ]),\n",
        "   'd': 6.458655360448204,\n",
        "   'vis': True}},\n",
        " '8': {'rat1': {'Pr': array([-79.09071805,   3.        ]),\n",
        "   'TOA': array([ 23.83924357,   0.9       ]),\n",
        "   'd': 6.7421204736013793,\n",
        "   'vis': True}},\n",
        " '9': {'rat1': {'Pr': array([-80.10453814,   3.        ]),\n",
        "   'TOA': array([ 44.72082968,   0.9       ]),\n",
        "   'd': 13.176138277549406,\n",
        "   'vis': False}}}"
       ]
      }
     ],
     "prompt_number": 9
    }
   ],
   "metadata": {}
  }
 ]
}