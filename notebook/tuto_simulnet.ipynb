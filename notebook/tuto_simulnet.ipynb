{
 "metadata": {
  "name": "tuto_simulnet"
 },
 "nbformat": 3,
 "nbformat_minor": 0,
 "worksheets": [
  {
   "cells": [
    {
     "cell_type": "markdown",
     "metadata": {},
     "source": [
      "# A 2 minutes tutorial"
     ]
    },
    {
     "cell_type": "markdown",
     "metadata": {},
     "source": [
      "This notebbok explains how to run a simation from the simulnet module. \n"
     ]
    },
    {
     "cell_type": "markdown",
     "metadata": {},
     "source": [
      "## 1. Run the simulation"
     ]
    },
    {
     "cell_type": "code",
     "collapsed": false,
     "input": [
      "from pylayers.simul.simulnet import *\n",
      "S=Simul()\n",
      "S.sim_opt['duration']=3.\n",
      "S.runsimul()\n",
      "# just for closing an extra figure from notebook,\n",
      "plt.close()\n",
      "\n"
     ],
     "language": "python",
     "metadata": {},
     "outputs": [
      {
       "output_type": "stream",
       "stream": "stdout",
       "text": [
        "Layout graphs are loaded from  /private/staff/n/en/buguen/Bureau/P1 /struc\n",
        "Processing save results, please wait"
       ]
      },
      {
       "output_type": "stream",
       "stream": "stdout",
       "text": [
        "\n"
       ]
      }
     ],
     "prompt_number": 7
    },
    {
     "cell_type": "markdown",
     "metadata": {},
     "source": [
      "S.EMS Invoque an electromagnetic solver"
     ]
    },
    {
     "cell_type": "markdown",
     "metadata": {},
     "source": [
      "## 2 show the save results\n",
      "\n"
     ]
    },
    {
     "cell_type": "markdown",
     "metadata": {},
     "source": [
      "Data are store into a dictionnary:\n",
      "\n"
     ]
    },
    {
     "cell_type": "code",
     "collapsed": false,
     "input": [
      "node_id = '1'\n",
      "print 'Node # ',node_id\n",
      "print '\\nemitted power', S.save.savemat[node_id]['epwr']\n",
      "print 'sensitivity node', S.save.savemat[node_id]['sens']\n",
      "print 'type', S.save.savemat[node_id]['type']\n",
      "print 'true position', S.save.savemat[node_id]['p']\n",
      "print 'estimated position', S.save.savemat[node_id]['pe']\n",
      "print '\\nOn rat1'\n",
      "print 'Received powers ',S.save.savemat[node_id]['rat1']['Pr']\n",
      "print 'TOA ',S.save.savemat[node_id]['rat1']['TOA']\n"
     ],
     "language": "python",
     "metadata": {},
     "outputs": [
      {
       "output_type": "stream",
       "stream": "stdout",
       "text": [
        "Node #  1\n",
        "\n",
        "emitted power {'rat1': 0}\n",
        "sensitivity node {'rat1': -80}\n",
        "type ag\n",
        "true position [[ 18.90762723   2.53145394]\n",
        " [ 19.25143344   4.11726992]\n",
        " [ 20.13494933   5.60739553]\n",
        " [ 22.28091405   5.78869912]]\n",
        "estimated position [[ nan  nan]\n",
        " [ nan  nan]\n",
        " [ nan  nan]\n",
        " [ nan  nan]]\n",
        "\n",
        "On rat1\n",
        "Received powers  {'2': array([[-88.50250914,   3.        ],\n",
        "       [-89.74086938,   3.        ],\n",
        "       [-68.60944009,   3.        ],\n",
        "       [-62.3490687 ,   3.        ]]), '7': array([[-108.51446115,    3.        ],\n",
        "       [ -94.36478812,    3.        ],\n",
        "       [ -93.80986629,    3.        ],\n",
        "       [-101.03191893,    3.        ]]), '6': array([[ -90.72822841,    3.        ],\n",
        "       [ -91.16233542,    3.        ],\n",
        "       [-108.61272973,    3.        ],\n",
        "       [-110.14950794,    3.        ]])}\n",
        "TOA  {'2': array([[ 50.28361337,   0.3       ],\n",
        "       [ 43.80258506,   0.3       ],\n",
        "       [ 33.99465749,   0.3       ],\n",
        "       [ 19.6913454 ,   0.3       ]]), '7': array([[ 74.45241469,   0.3       ],\n",
        "       [ 71.56613063,   0.3       ],\n",
        "       [ 71.92381033,   0.3       ],\n",
        "       [ 78.96378033,   0.3       ]]), '6': array([[ 63.25264111,   0.3       ],\n",
        "       [ 64.77451993,   0.3       ],\n",
        "       [ 69.16276218,   0.3       ],\n",
        "       [ 76.31061899,   0.3       ]])}\n"
       ]
      }
     ],
     "prompt_number": 11
    },
    {
     "cell_type": "markdown",
     "metadata": {},
     "source": [
      "# Simulation\n",
      "\n",
      "All agents and anchors are gathers into a list of agent"
     ]
    },
    {
     "cell_type": "code",
     "collapsed": false,
     "input": [
      "S.lAg"
     ],
     "language": "python",
     "metadata": {},
     "outputs": [
      {
       "output_type": "pyout",
       "prompt_number": 3,
       "text": [
        "[<pylayers.mobility.agent.Agent at 0xb678fcc>,\n",
        " <pylayers.mobility.agent.Agent at 0xb29f36c>,\n",
        " <pylayers.mobility.agent.Agent at 0xb29f5ec>,\n",
        " <pylayers.mobility.agent.Agent at 0xb675c4c>]"
       ]
      }
     ],
     "prompt_number": 3
    },
    {
     "cell_type": "markdown",
     "metadata": {},
     "source": [
      "# Mechanical Attributes\n",
      "\n",
      "Only concern moving agents\n",
      "\n",
      "\n",
      "\n",
      "    "
     ]
    },
    {
     "cell_type": "code",
     "collapsed": false,
     "input": [
      "\n",
      "print 'Agent ID:',S.lAg[0].meca.ID\n",
      "print 'Agent name:',S.lAg[0].meca.name\n",
      "print 'Agent mass:',S.lAg[0].meca.mass\n",
      "\n",
      "\n",
      "print '\\nposition vector:',S.lAg[0].meca.position\n",
      "print 'velocity vector:',S.lAg[0].meca.velocity\n",
      "print 'acceleration vector:',S.lAg[0].meca.acceleration\n",
      "\n",
      "print '\\nwaiting time in room:',S.lAg[0].meca.wait\n",
      "print 'coordinates of its target:',S.lAg[0].meca.destination\n",
      "print 'a list coordinates of its intermediate target:',S.lAg[0].meca.wp\n"
     ],
     "language": "python",
     "metadata": {},
     "outputs": [
      {
       "output_type": "stream",
       "stream": "stdout",
       "text": [
        "Agent ID: 1\n",
        "Agent name: Person_ID1\n",
        "Agent mass: 80\n",
        "\n",
        "position vector: (17.5157, 7.5500, 0.0000)\n",
        "velocity vector: (-0.9486, 0.6855, 0.0000)\n",
        "acceleration vector: (-0.0673, -0.0404, 0.0000)\n",
        "\n",
        "waiting time in room: 1.0\n",
        "coordinates of its target: (13.6991, 9.9975, 0.0000)\n",
        "a list coordinates of its intermediate target: [(18.90000057220459, 2.497499942779541), (19.460982322692871, 4.994999885559082), (13.69907808303833, 9.9975004196166992), (13.500000476837156, 12.498750209808348)]\n"
       ]
      }
     ],
     "prompt_number": 4
    },
    {
     "cell_type": "markdown",
     "metadata": {},
     "source": [
      "# Network Attributes"
     ]
    },
    {
     "cell_type": "markdown",
     "metadata": {},
     "source": [
      "The network is a graph:\n",
      "\n",
      "* Nodes of the graph represent  Agents or access points\n",
      "* Edges of the graph represent radio link between nodes "
     ]
    },
    {
     "cell_type": "markdown",
     "metadata": {},
     "source": [
      "The node is a dictionnary which contains the following keys :\n",
      "\n",
      "* 'PN'  : Personnal Network ( described in the following)\n",
      "* 'RAT' : A list of RAT of which it belongs\n",
      "* 'p'   : true position\n",
      "* 'pe'  : estimated position if it has been computed by the node itself ( cf. location tutorial )\n",
      "* 't'   : A time stamp\n",
      "* 'type': Its type ( 'ag' : for agent or 'ap' for access point )\n",
      "\n",
      "example with node '1'"
     ]
    },
    {
     "cell_type": "code",
     "collapsed": false,
     "input": [
      "S.net.node['1']"
     ],
     "language": "python",
     "metadata": {},
     "outputs": [
      {
       "output_type": "pyout",
       "prompt_number": 5,
       "text": [
        "{'PN': <pylayers.network.network.Network at 0xb4b498c>,\n",
        " 'RAT': ['rat1'],\n",
        " 'epwr': {'rat1': 0},\n",
        " 'p': array([ 17.51570423,   7.54996142]),\n",
        " 'pe': array([], dtype=float64),\n",
        " 'pe_alg': array([[-5418.    ,    61.8125]]),\n",
        " 'sens': {'rat1': -80},\n",
        " 't': 1362586523.275275,\n",
        " 'type': 'ag'}"
       ]
      }
     ],
     "prompt_number": 5
    },
    {
     "cell_type": "markdown",
     "metadata": {},
     "source": [
      "Each node are link by the edge of the graph\n",
      "\n",
      "\n",
      "The edge is a dictionnary which contains the following keys :\n",
      "\n",
      "\n",
      "example with node '1'"
     ]
    },
    {
     "cell_type": "code",
     "collapsed": false,
     "input": [
      "S.net.edge['1']"
     ],
     "language": "python",
     "metadata": {},
     "outputs": [
      {
       "output_type": "pyout",
       "prompt_number": 9,
       "text": [
        "{'2': {'rat1': {'Pr': array([-62.3490687,   3.       ]),\n",
        "   'TOA': array([ 19.6913454,   0.3      ]),\n",
        "   'd': 5.9074036190978525,\n",
        "   'vis': True}},\n",
        " '6': {'rat1': {'Pr': array([-110.14950794,    3.        ]),\n",
        "   'TOA': array([ 76.31061899,   0.3       ]),\n",
        "   'd': 22.107972726717509,\n",
        "   'vis': False}},\n",
        " '7': {'rat1': {'Pr': array([-101.03191893,    3.        ]),\n",
        "   'TOA': array([ 78.96378033,   0.3       ]),\n",
        "   'd': 23.090286128923893,\n",
        "   'vis': False}}}"
       ]
      }
     ],
     "prompt_number": 9
    },
    {
     "cell_type": "code",
     "collapsed": false,
     "input": [],
     "language": "python",
     "metadata": {},
     "outputs": []
    }
   ],
   "metadata": {}
  }
 ]
}