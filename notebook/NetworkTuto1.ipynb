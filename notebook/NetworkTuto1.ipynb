{
 "metadata": {
  "name": "NetworkTuto1"
 },
 "nbformat": 3,
 "nbformat_minor": 0,
 "worksheets": [
  {
   "cells": [
    {
     "cell_type": "markdown",
     "metadata": {},
     "source": [
      "# Initialization"
     ]
    },
    {
     "cell_type": "code",
     "collapsed": false,
     "input": [
      "from pylayers.gis.layout import *\n",
      "from pylayers.mobility.agent import *\n",
      "from pylayers.network.network import *\n",
      "from pylayers.network.emsolver import *"
     ],
     "language": "python",
     "metadata": {},
     "outputs": [],
     "prompt_number": 12
    },
    {
     "cell_type": "markdown",
     "metadata": {},
     "source": [
      "## Layout Creation\n",
      "\n",
      "First we need to load a layout structure. \n",
      "\n",
      "A place where nodes from a network can move and communicate"
     ]
    },
    {
     "cell_type": "code",
     "collapsed": false,
     "input": [
      "L=Layout('TA-Office.str')\n",
      "L.build('str') # build 's'tructure, 't'opological and 'r'oom graphs\n",
      "fig,ax=L.showG('',show=True)\n",
      "\n"
     ],
     "language": "python",
     "metadata": {},
     "outputs": [
      {
       "output_type": "display_data",
       "png": "[encoded data removed]"
      }
     ],
     "prompt_number": 13
    },
    {
     "cell_type": "markdown",
     "metadata": {},
     "source": [
      "## Network Creation\n",
      "\n",
      "Now we must instanciate a void Network. \n",
      "\n",
      "A Network will gather all radio acces technology RAT from all agents\n",
      "The Network class inherits from networkx "
     ]
    },
    {
     "cell_type": "code",
     "collapsed": false,
     "input": [
      "N=Network()"
     ],
     "language": "python",
     "metadata": {},
     "outputs": [],
     "prompt_number": 14
    },
    {
     "cell_type": "markdown",
     "metadata": {},
     "source": [
      "## Agents Creation\n",
      "\n",
      "Then we need to instanciate agents ( nodes ) into that layout.\n",
      "An agent is either a moving person or a static acces point which have one or more (RAT).\n",
      "\n",
      "- For that tutorial we create 3 agents in room **0 ,3 and 5** respectively.\n",
      "- We suppose they communicate on the same and unique RAT : **'rat1'**\n",
      "- Obviously agent will evolve into the previously created network **N**.\n",
      "    "
     ]
    },
    {
     "cell_type": "code",
     "collapsed": false,
     "input": [
      "Ag=[]\n",
      "nb_agent = 3\n",
      "room_init=[0,3,5]\n",
      "for na in range(nb_agent):\n",
      "    Ag.append(\n",
      "              Agent(ID = na,\n",
      "                    Layout = L,\n",
      "                    net = N,\n",
      "                    roomId = room_init[na],\n",
      "                    RAT=['rat1'] )\n",
      "              )"
     ],
     "language": "python",
     "metadata": {},
     "outputs": [],
     "prompt_number": 15
    },
    {
     "cell_type": "markdown",
     "metadata": {},
     "source": [
      "## Connection Creation\n",
      "\n",
      "Now we can create the Network. It means, we connect agents all together, according to their common RAT.\n"
     ]
    },
    {
     "cell_type": "code",
     "collapsed": false,
     "input": [
      "N.create()\n",
      "\n",
      "\n",
      "# show the Layout\n",
      "fig,ax=L.showG('')\n",
      "# show the network layer\n",
      "N.show(fig = fig, legend = True)\n"
     ],
     "language": "python",
     "metadata": {},
     "outputs": [
      {
       "output_type": "stream",
       "stream": "stdout",
       "text": [
        "('rat1', <pylayers.network.network.Network object at 0xb6ef82c>)\n"
       ]
      },
      {
       "output_type": "display_data",
       "png": "[encoded data removed]"
      }
     ],
     "prompt_number": 16
    },
    {
     "cell_type": "markdown",
     "metadata": {},
     "source": [
      "## Nodes and edges"
     ]
    },
    {
     "cell_type": "markdown",
     "metadata": {},
     "source": [
      "Because Network inherits of networkx, you can have information about nodes and edges as such"
     ]
    },
    {
     "cell_type": "markdown",
     "metadata": {},
     "source": [
      "The node is a dictionnary whi containts the folowing keys :\n",
      "\n",
      "* 'PN'  : Its Personnal Network ( described in the following)\n",
      "* 'RAT' : A list of RAT of which it belongs\n",
      "* 'p'   : Its true position\n",
      "* 'pe'  : Its estimated position if it has computed it by itself ( cf. location tutorial - IN CONSTRUCTION -)\n",
      "* 't'   : A time stamp\n",
      "* 'type': Its type ( 'ag' : for agent or 'ap' for access point )\n",
      "\n",
      "example with node '0'"
     ]
    },
    {
     "cell_type": "code",
     "collapsed": false,
     "input": [
      "N.node[0]"
     ],
     "language": "python",
     "metadata": {},
     "outputs": [
      {
       "output_type": "pyout",
       "prompt_number": 17,
       "text": [
        "{'PN': <pylayers.network.network.Network at 0xb98e08c>,\n",
        " 'RAT': ['rat1'],\n",
        " 'p': array([ 38.73340397,   2.49958334]),\n",
        " 'pe': array([], dtype=float64),\n",
        " 't': 1350918201.516983,\n",
        " 'type': 'ag'}"
       ]
      }
     ],
     "prompt_number": 17
    },
    {
     "cell_type": "markdown",
     "metadata": {},
     "source": [
      "The edge is a dictionnary of dictionnary. \n",
      "Each RAT is a key of the first dictionnary.\n",
      "Location dependent parameter (LDP) is the key of the second.\n",
      "\n",
      "example with edge 0-1\n"
     ]
    },
    {
     "cell_type": "code",
     "collapsed": false,
     "input": [
      "N.edge[0][1]"
     ],
     "language": "python",
     "metadata": {},
     "outputs": [
      {
       "output_type": "pyout",
       "prompt_number": 18,
       "text": [
        "{'rat1': {'Pr': [], 'TOA': []}}"
       ]
      }
     ],
     "prompt_number": 18
    },
    {
     "cell_type": "markdown",
     "metadata": {},
     "source": [
      "Obviously, LDPs values are void, because no location depend parameter have been still computed."
     ]
    },
    {
     "cell_type": "markdown",
     "metadata": {},
     "source": [
      "# Compute Location dependent parameters (LDPs)\n",
      "\n",
      "LDPs are radio measurements bewteen agents. It could be either:\n",
      "\n",
      "1. Time of Arrival (**TOA**) \n",
      "2. Received Power (**Pr**)\n"
     ]
    },
    {
     "cell_type": "markdown",
     "metadata": {},
     "source": [
      "## EMS initialization\n",
      "\n",
      "We first initialize the electromagnetic solver (EMS) for the given Network N. \n",
      "We must give it a Layout strucuture, in order to be able to compute accurate LDP.\n",
      "\n",
      ".. note:: it could have be made during the Network instantiation"
     ]
    },
    {
     "cell_type": "code",
     "collapsed": false,
     "input": [
      "N.EMS=EMSolver(L)"
     ],
     "language": "python",
     "metadata": {},
     "outputs": [],
     "prompt_number": 19
    },
    {
     "cell_type": "markdown",
     "metadata": {},
     "source": [
      "## Computation\n",
      "\n",
      "The we compute *TOA* and *received power*  dependent parameters, and display for link 0-1"
     ]
    },
    {
     "cell_type": "code",
     "collapsed": false,
     "input": [
      "for ldp in ['Pr','TOA']:\n",
      "    N.compute_LDPs(N.nodes(),RAT='rat1',LDP=ldp)\n",
      "N.edge[0][1]"
     ],
     "language": "python",
     "metadata": {},
     "outputs": [
      {
       "output_type": "pyout",
       "prompt_number": 20,
       "text": [
        "{'rat1': {'Pr': [-55.588970234804705, 3.0],\n",
        "  'TOA': [6.5687780348651295, 0.3],\n",
        "  'd': 22.211421125568684}}"
       ]
      }
     ],
     "prompt_number": 20
    },
    {
     "cell_type": "markdown",
     "metadata": {},
     "source": [
      "# tests on PN"
     ]
    },
    {
     "cell_type": "code",
     "collapsed": false,
     "input": [
      "N.update_PN()\n",
      "\n",
      "N.node[0]['PN'].node[0]['pe']=np.array((4,4))\n",
      "N.node[0]['PN'].node[1]['pe']=np.array((8,8))\n",
      "N.node[0]['PN'].node[2]['pe']=np.array((30,8))\n",
      "fig,ax=L.showG('')\n",
      "# show the network layer\n",
      "N.node[0]['PN'].show(fig = fig, legend = True)\n"
     ],
     "language": "python",
     "metadata": {},
     "outputs": [
      {
       "output_type": "display_data",
       "png": "[encoded data removed]"
      }
     ],
     "prompt_number": 30
    },
    {
     "cell_type": "code",
     "collapsed": false,
     "input": [],
     "language": "python",
     "metadata": {},
     "outputs": [],
     "prompt_number": 21
    }
   ],
   "metadata": {}
  }
 ]
}