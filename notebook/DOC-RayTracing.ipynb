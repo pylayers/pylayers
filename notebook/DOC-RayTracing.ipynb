{
 "metadata": {
  "name": "DOC-RayTracing"
 },
 "nbformat": 3,
 "nbformat_minor": 0,
 "worksheets": [
  {
   "cells": [
    {
     "cell_type": "code",
     "collapsed": false,
     "input": [
      "from pylayers.simul.simulem import *"
     ],
     "language": "python",
     "metadata": {},
     "outputs": [
      {
       "metadata": {},
       "output_type": "display_data",
       "text": [
        "<matplotlib.figure.Figure at 0x3c17f90>"
       ]
      }
     ],
     "prompt_number": 1
    },
    {
     "cell_type": "markdown",
     "metadata": {},
     "source": [
      "## Ray-tracing"
     ]
    },
    {
     "cell_type": "code",
     "collapsed": false,
     "input": [
      "S = Simul()\n",
      "# loading a layout \n",
      "filestr = 'TA-Office'\n",
      "# load the material and slab dictionnaries\n",
      "S.layout(filestr+'.str','matDB.ini','slabDB.ini')"
     ],
     "language": "python",
     "metadata": {},
     "outputs": [],
     "prompt_number": 2
    },
    {
     "cell_type": "markdown",
     "metadata": {},
     "source": [
      "### Setting the transmitter"
     ]
    },
    {
     "cell_type": "code",
     "collapsed": false,
     "input": [
      "S.tx = RadioNode(typ='tx')\n",
      "S.tx.point([1.2,1,1.4])"
     ],
     "language": "python",
     "metadata": {},
     "outputs": [],
     "prompt_number": 3
    },
    {
     "cell_type": "markdown",
     "metadata": {},
     "source": [
      "### Setting receiver"
     ]
    },
    {
     "cell_type": "code",
     "collapsed": false,
     "input": [
      "S.rx = RadioNode(typ='rx')\n",
      "S.rx.point([8,-1.2,1.5],mode='append')\n",
      "S.rx.point([8,-1.21,1.5],mode='append')\n",
      "S.rx.point([8,-1.22,1.5],mode='append')\n",
      "S.rx.point([8,-1.23,1.5],mode='append')\n",
      "S.rx.point([8,-1.24,1.5],mode='append')\n",
      "\n",
      "S.save()"
     ],
     "language": "python",
     "metadata": {},
     "outputs": [],
     "prompt_number": 4
    },
    {
     "cell_type": "markdown",
     "metadata": {},
     "source": [
      "### Adjust simulation parameter (optional)"
     ]
    },
    {
     "cell_type": "code",
     "collapsed": false,
     "input": [
      "\n",
      "# print launching parameters\n",
      "S.palch.info()\n",
      "\n",
      "# ang Tx : angular step from Tx\n",
      "S.palch.angTx  = 1\n",
      "\n",
      "# ISB ang Incident Shadow Boundary angle (degree) \n",
      "S.palch.ISBang = 90  \n",
      "\n",
      "# ray elimination Threshold \n",
      "S.palch.ethreshold = 0.001\n",
      "\n",
      "# maximum depth\n",
      "S.palch.maxdeep  = 10\n",
      "\n",
      "# typealgo = 0 (include diffraction) 1 (no diffraction)\n",
      "S.palch.typalgo = 1\n",
      "title = str(S.palch.angTx) + '-' +\\\n",
      "        str(S.palch.ISBang) + '-' +\\\n",
      "        str(S.palch.ethreshold) + '-' + \\\n",
      "        str(S.palch.maxdeep) + '-' + \\\n",
      "        str(S.palch.typalgo)\n",
      "\n",
      "S.palch.save()\n",
      "S.pafreq.fghzmin=2\n",
      "S.pafreq.fghzmax=11\n",
      "S.pafreq.nf=181\n",
      "S.pafreq.save()"
     ],
     "language": "python",
     "metadata": {},
     "outputs": [
      {
       "output_type": "stream",
       "stream": "stdout",
       "text": [
        "----------------------------------------------\n",
        "            Launching Parameter               \n",
        "----------------------------------------------\n",
        "angTx      : Tx angular step ( degrees)     :  1\n",
        "ISBang     : ISB angular sector ( degrees ) :  90\n",
        "ethreshold : Exploration Threshold (linear) :  0.001\n",
        "maxdeep    : Tree deep max (integer value)  :  10\n",
        "typalgo    : Type of algo (default 0)       :  1\n"
       ]
      }
     ],
     "prompt_number": 5
    },
    {
     "cell_type": "markdown",
     "metadata": {},
     "source": [
      "### Run the ray tracing"
     ]
    },
    {
     "cell_type": "code",
     "collapsed": false,
     "input": [
      "S.run(1,1)"
     ],
     "language": "python",
     "metadata": {},
     "outputs": [
      {
       "output_type": "stream",
       "stream": "stdout",
       "text": [
        "run debug  1 1\n",
        "nray : "
       ]
      },
      {
       "output_type": "stream",
       "stream": "stdout",
       "text": [
        " 500\n",
        "nfreq :  181\n",
        "nb rays in .tauk file: "
       ]
      },
      {
       "output_type": "stream",
       "stream": "stdout",
       "text": [
        " 500\n",
        "nb rays 2:  500\n"
       ]
      },
      {
       "output_type": "stream",
       "stream": "stderr",
       "text": [
        "/usr/local/lib/python2.7/dist-packages/scipy/io/matlab/mio.py:267: FutureWarning: Using oned_as default value ('column') This will change to 'row' in future versions\n",
        "  oned_as=oned_as)\n"
       ]
      },
      {
       "metadata": {},
       "output_type": "pyout",
       "prompt_number": 6,
       "text": [
        "True"
       ]
      }
     ],
     "prompt_number": 6
    },
    {
     "cell_type": "markdown",
     "metadata": {},
     "source": [
      "### Plot CIR"
     ]
    },
    {
     "cell_type": "code",
     "collapsed": false,
     "input": [
      "S.pltcir(1,1)"
     ],
     "language": "python",
     "metadata": {},
     "outputs": [
      {
       "output_type": "stream",
       "stream": "stdout",
       "text": [
        "Warning : no furniture file loaded\n"
       ]
      },
      {
       "metadata": {},
       "output_type": "display_data",
       "png": "[encoded data removed]",
       "text": [
        "<matplotlib.figure.Figure at 0x3ce3e90>"
       ]
      }
     ],
     "prompt_number": 7
    },
    {
     "cell_type": "code",
     "collapsed": false,
     "input": [],
     "language": "python",
     "metadata": {},
     "outputs": []
    }
   ],
   "metadata": {}
  }
 ]
}