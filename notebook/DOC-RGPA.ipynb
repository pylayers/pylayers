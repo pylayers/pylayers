{
 "metadata": {
  "name": "DOC-RGPA"
 },
 "nbformat": 3,
 "nbformat_minor": 0,
 "worksheets": [
  {
   "cells": [
    {
     "cell_type": "code",
     "collapsed": false,
     "input": [
      "from pylayers.location.geometric.constraints.cla import *\n",
      "from pylayers.location.geometric.constraints.toa import *\n",
      "from pylayers.location.geometric.constraints.tdoa import *\n",
      "from pylayers.location.geometric.constraints.rss import *\n",
      "import matplotlib.pyplot as plt"
     ],
     "language": "python",
     "metadata": {},
     "outputs": [],
     "prompt_number": 1
    },
    {
     "cell_type": "code",
     "collapsed": false,
     "input": [
      "ptoa1=np.array(([0,0]))\n",
      "ptoa2=np.array(([10,15]))\n",
      "ptoa3=np.array(([5,28]))\n",
      "ptoa4=np.array(([-10,-10]))\n",
      "\n",
      "p = np.array((0,5))"
     ],
     "language": "python",
     "metadata": {},
     "outputs": [],
     "prompt_number": 2
    },
    {
     "cell_type": "markdown",
     "metadata": {},
     "source": [
      "Display the scene"
     ]
    },
    {
     "cell_type": "code",
     "collapsed": false,
     "input": [
      "f=plt.figure()\n",
      "ax=f.add_subplot(111)\n",
      "ax.plot(ptoa1[0],ptoa1[1],'or',label='anchor 1')\n",
      "ax.plot(ptoa2[0],ptoa2[1],'or',label='anchor 2')\n",
      "ax.plot(ptoa3[0],ptoa3[1],'or',label='anchor 3')\n",
      "ax.plot(ptoa4[0],ptoa4[1],'or',label='anchor 4')\n",
      "ax.plot(p[0],p[1],'xb',label='p')\n",
      "\n",
      "\n",
      "ax.legend(loc='best')"
     ],
     "language": "python",
     "metadata": {},
     "outputs": [
      {
       "metadata": {},
       "output_type": "pyout",
       "prompt_number": 3,
       "text": [
        "<matplotlib.legend.Legend at 0x104caa210>"
       ]
      },
      {
       "metadata": {},
       "output_type": "display_data",
       "png": "[encoded data removed]",
       "text": [
        "<matplotlib.figure.Figure at 0x104c4a210>"
       ]
      }
     ],
     "prompt_number": 3
    },
    {
     "cell_type": "markdown",
     "metadata": {},
     "source": [
      "compute the true distance and the associated TOAs"
     ]
    },
    {
     "cell_type": "code",
     "collapsed": false,
     "input": [
      "d1=np.sqrt(np.sum((ptoa1-p)**2))\n",
      "d2=np.sqrt(np.sum((ptoa2-p)**2))\n",
      "d3=np.sqrt(np.sum((ptoa3-p)**2))\n",
      "d4=np.sqrt(np.sum((ptoa4-p)**2))\n",
      "\n",
      "toa1=d1/0.3\n",
      "toa2=d2/0.3\n",
      "toa3=d3/0.3\n",
      "toa4=d4/0.3\n",
      "\n",
      "print 'distance p-1=',d1, '/ toa1=',toa1\n",
      "print 'distance p-2=',d2, '/ toa2=',toa2\n",
      "print 'distance p-3=',d3, '/ toa3=',toa3\n",
      "print 'distance p-4=',d4, '/ toa3=',toa4"
     ],
     "language": "python",
     "metadata": {},
     "outputs": [
      {
       "output_type": "stream",
       "stream": "stdout",
       "text": [
        "distance p-1= 5.0 / toa1= 16.6666666667\n",
        "distance p-2= 14.1421356237 / toa2= 47.1404520791\n",
        "distance p-3= 23.5372045919 / toa3= 78.4573486396\n",
        "distance p-4= 18.0277563773 / toa3= 60.0925212577\n"
       ]
      }
     ],
     "prompt_number": 4
    },
    {
     "cell_type": "markdown",
     "metadata": {},
     "source": [
      "# RGPA"
     ]
    },
    {
     "cell_type": "markdown",
     "metadata": {},
     "source": [
      "## TOA"
     ]
    },
    {
     "cell_type": "markdown",
     "metadata": {},
     "source": [
      "instanciate the constraint layer array which gathers all the geometric constraints of the considered scenario."
     ]
    },
    {
     "cell_type": "code",
     "collapsed": false,
     "input": [
      "C=CLA()"
     ],
     "language": "python",
     "metadata": {},
     "outputs": [],
     "prompt_number": 5
    },
    {
     "cell_type": "markdown",
     "metadata": {},
     "source": [
      "Instanciate TOA objects\n",
      "Watch out their id are differnts "
     ]
    },
    {
     "cell_type": "code",
     "collapsed": false,
     "input": [
      "T1=TOA(id=0,value = toa1, std = 1.0, p = ptoa1)\n",
      "T2=TOA(id=1,value = toa2, std = 1.0, p = ptoa2)\n",
      "T3=TOA(id=2,value = toa3, std = 1.0, p = ptoa3)\n",
      "T4=TOA(id=3,value = toa4, std = 1.0, p = ptoa4)"
     ],
     "language": "python",
     "metadata": {},
     "outputs": [],
     "prompt_number": 6
    },
    {
     "cell_type": "markdown",
     "metadata": {},
     "source": [
      "Add TOA contrstraints to the CLA"
     ]
    },
    {
     "cell_type": "code",
     "collapsed": false,
     "input": [
      "C.append(T1)\n",
      "C.append(T2)\n",
      "C.append(T3)\n",
      "C.append(T4)"
     ],
     "language": "python",
     "metadata": {},
     "outputs": [],
     "prompt_number": 7
    },
    {
     "cell_type": "markdown",
     "metadata": {},
     "source": [
      "List all constraints of the CLA"
     ]
    },
    {
     "cell_type": "code",
     "collapsed": false,
     "input": [
      "C.c"
     ],
     "language": "python",
     "metadata": {},
     "outputs": [
      {
       "metadata": {},
       "output_type": "pyout",
       "prompt_number": 8,
       "text": [
        "[<pylayers.location.geometric.constraints.toa.TOA at 0x104c408d0>,\n",
        " <pylayers.location.geometric.constraints.toa.TOA at 0x104c38d50>,\n",
        " <pylayers.location.geometric.constraints.toa.TOA at 0x104c38e50>,\n",
        " <pylayers.location.geometric.constraints.toa.TOA at 0x104c40bd0>]"
       ]
      }
     ],
     "prompt_number": 8
    },
    {
     "cell_type": "markdown",
     "metadata": {},
     "source": [
      "Get information on the cla :\n",
      " \n",
      "  + type : TOA / RSS\n",
      "  + p : Position of the origin of the constraint\n",
      "  + value : power ( RSS ) / time in ns ( TOA)\n",
      "  + std : standard deviation $\\sigma^2$ of value\n",
      "  + runable : does the constraint has a position p ?\n",
      "  + obsolete : does the value has been obtained recently ?\n",
      "  + usuable : runbale AND NOT obsolete\n",
      "  + evlauated : obsolete\n",
      "  "
     ]
    },
    {
     "cell_type": "code",
     "collapsed": false,
     "input": [
      "C.info2()"
     ],
     "language": "python",
     "metadata": {},
     "outputs": [
      {
       "output_type": "stream",
       "stream": "stdout",
       "text": [
        "type , p         , value     , std    , runable, usable, obsolete, evaluated\n",
        "TOA , [0 0]     , 16.6666666667,     1.0, 0, 1, 0, 0\n",
        "type , p         , value     , std    , runable, usable, obsolete, evaluated\n",
        "TOA , [10 15]   , 47.1404520791,     1.0, 1, 1, 0, 0\n",
        "type , p         , value     , std    , runable, usable, obsolete, evaluated\n",
        "TOA , [ 5 28]   , 78.4573486396,     1.0, 1, 1, 0, 0\n",
        "type , p         , value     , std    , runable, usable, obsolete, evaluated\n",
        "TOA , [-10 -10] , 60.0925212577,     1.0, 1, 1, 0, 0\n"
       ]
      }
     ],
     "prompt_number": 9
    },
    {
     "cell_type": "markdown",
     "metadata": {},
     "source": [
      "Update the CLA"
     ]
    },
    {
     "cell_type": "code",
     "collapsed": false,
     "input": [
      "C.update()\n"
     ],
     "language": "python",
     "metadata": {},
     "outputs": [],
     "prompt_number": 10
    },
    {
     "cell_type": "markdown",
     "metadata": {},
     "source": [
      "Compute the cla"
     ]
    },
    {
     "cell_type": "code",
     "collapsed": false,
     "input": [
      "C.compute()"
     ],
     "language": "python",
     "metadata": {},
     "outputs": [
      {
       "output_type": "stream",
       "stream": "stdout",
       "text": [
        "0.25 1.5\n",
        "0.0625 1.375\n",
        "0.015625 1.34375\n"
       ]
      },
      {
       "metadata": {},
       "output_type": "pyout",
       "prompt_number": 11,
       "text": [
        "True"
       ]
      }
     ],
     "prompt_number": 11
    },
    {
     "cell_type": "markdown",
     "metadata": {},
     "source": [
      "show the estimated position"
     ]
    },
    {
     "cell_type": "code",
     "collapsed": false,
     "input": [
      "C.pe"
     ],
     "language": "python",
     "metadata": {},
     "outputs": [
      {
       "metadata": {},
       "output_type": "pyout",
       "prompt_number": 12,
       "text": [
        "array([ -4.735e-03,   4.992e+00])"
       ]
      }
     ],
     "prompt_number": 12
    },
    {
     "cell_type": "markdown",
     "metadata": {},
     "source": [
      "## TDOA"
     ]
    },
    {
     "cell_type": "code",
     "collapsed": false,
     "input": [
      "Td1=TDOA(id=0,value = toa1-toa2, std = 1.0, p = np.array([ptoa1,ptoa2]))\n",
      "Td2=TDOA(id=1,value = toa1-toa3, std = 1.0, p = np.array([ptoa1,ptoa3]))\n",
      "Td3=TDOA(id=2,value = toa1-toa4, std = 1.0, p = np.array([ptoa1,ptoa4]))\n"
     ],
     "language": "python",
     "metadata": {},
     "outputs": [],
     "prompt_number": 13
    },
    {
     "cell_type": "code",
     "collapsed": false,
     "input": [
      "C=CLA()\n",
      "C.append(Td1)\n",
      "C.append(Td2)\n",
      "C.append(Td3)"
     ],
     "language": "python",
     "metadata": {},
     "outputs": [],
     "prompt_number": 14
    },
    {
     "cell_type": "code",
     "collapsed": false,
     "input": [
      "C.compute()"
     ],
     "language": "python",
     "metadata": {},
     "outputs": [
      {
       "output_type": "stream",
       "stream": "stdout",
       "text": [
        "TDOA 2.0\n",
        "TDOA 2.0\n",
        "TDOA 2.0\n",
        "0.25 1.5\n",
        "TDOA 1.5\n",
        "TDOA 1.5\n",
        "TDOA 1.5\n",
        "0.0625 1.375\n",
        "TDOA 1.375\n",
        "TDOA 1.375\n",
        "TDOA 1.375\n",
        "0.015625 1.34375\n",
        "TDOA"
       ]
      },
      {
       "output_type": "stream",
       "stream": "stdout",
       "text": [
        " 1.375\n",
        "TDOA 1.375\n",
        "TDOA 1.375\n"
       ]
      },
      {
       "metadata": {},
       "output_type": "pyout",
       "prompt_number": 15,
       "text": [
        "True"
       ]
      }
     ],
     "prompt_number": 15
    },
    {
     "cell_type": "code",
     "collapsed": false,
     "input": [
      "C.pe"
     ],
     "language": "python",
     "metadata": {},
     "outputs": [
      {
       "metadata": {},
       "output_type": "pyout",
       "prompt_number": 16,
       "text": [
        "array([ 0.021,  4.987])"
       ]
      }
     ],
     "prompt_number": 16
    },
    {
     "cell_type": "code",
     "collapsed": false,
     "input": [],
     "language": "python",
     "metadata": {},
     "outputs": []
    }
   ],
   "metadata": {}
  }
 ]
}