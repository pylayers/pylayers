{
 "metadata": {
  "name": "MetaSignature"
 },
 "nbformat": 3,
 "nbformat_minor": 0,
 "worksheets": [
  {
   "cells": [
    {
     "cell_type": "code",
     "collapsed": false,
     "input": [
      "from pylayers.gis.layout import *\n",
      "from pylayers.antprop.signature import *\n",
      "import networkx as nx\n",
      "from IPython.display import Image,HTML,Latex"
     ],
     "language": "python",
     "metadata": {},
     "outputs": [],
     "prompt_number": 16
    },
    {
     "cell_type": "code",
     "collapsed": false,
     "input": [
      "L=Layout('DLR.ini')"
     ],
     "language": "python",
     "metadata": {},
     "outputs": [],
     "prompt_number": 2
    },
    {
     "cell_type": "code",
     "collapsed": false,
     "input": [
      "try:\n",
      "    L.dumpr()\n",
      "except:\n",
      "    L.build()\n",
      "    L.dumpw()"
     ],
     "language": "python",
     "metadata": {},
     "outputs": [],
     "prompt_number": 3
    },
    {
     "cell_type": "code",
     "collapsed": false,
     "input": [
      "L.showG('t')"
     ],
     "language": "python",
     "metadata": {},
     "outputs": [
      {
       "metadata": {},
       "output_type": "pyout",
       "prompt_number": 4,
       "text": [
        "(<matplotlib.figure.Figure at 0xa57988c>,\n",
        " <matplotlib.axes.AxesSubplot at 0xa6d6e4c>)"
       ]
      },
      {
       "metadata": {},
       "output_type": "display_data",
       "png": "[encoded data removed]",
       "text": [
        "<matplotlib.figure.Figure at 0xa57988c>"
       ]
      }
     ],
     "prompt_number": 4
    },
    {
     "cell_type": "markdown",
     "metadata": {},
     "source": [
      "Once the graph of cycles has been built, it can be used to determine the inter cycle signature.\n",
      "$\\mathcal{S}_{ij}$ is the set of possible path between cycle $i$ and cycle $j$. \n",
      "\n",
      "When cycles are far from one from another, the cardinal of this set is exploding, and it becomes a very \n",
      "challenging task to get all of them. \n",
      "\n",
      "The purpose then, is to find statregies in order to filter out only those very signatures which will get only \n",
      "the most contributing rays. \n"
     ]
    },
    {
     "cell_type": "code",
     "collapsed": false,
     "input": [
      "nc1 = 1\n",
      "nc2 = 14\n",
      "S=Signatures(L,nc1,nc2)\n"
     ],
     "language": "python",
     "metadata": {},
     "outputs": [],
     "prompt_number": 6
    },
    {
     "cell_type": "code",
     "collapsed": false,
     "input": [
      "S.run1(cutoff=4)"
     ],
     "language": "python",
     "metadata": {},
     "outputs": [],
     "prompt_number": 7
    },
    {
     "cell_type": "code",
     "collapsed": false,
     "input": [
      "S"
     ],
     "language": "python",
     "metadata": {},
     "outputs": [
      {
       "metadata": {},
       "output_type": "pyout",
       "prompt_number": 8,
       "text": [
        "Signatures : \n",
        "------------------\n",
        "124\n",
        "from : 1 to 14\n",
        "2 : 2\n",
        "3 : 56\n",
        "4 : 638\n",
        "5 : 4238\n"
       ]
      }
     ],
     "prompt_number": 8
    },
    {
     "cell_type": "markdown",
     "metadata": {},
     "source": [
      "The graph Gt contains as a member a shapely polygon of the cycle. It is then easy to extract the centroid of the polygon for testing the algorithm which require to have a point which belong to the cycle."
     ]
    },
    {
     "cell_type": "code",
     "collapsed": false,
     "input": [
      "poly1 = L.Gt.node[nc1]['polyg']\n",
      "cp1 = poly1.centroid.xy\n",
      "\n",
      "poly2 = L.Gt.node[nc2]['polyg']\n",
      "cp2 = poly2.centroid.xy\n",
      "\n",
      "ptx = np.array([cp1[0][0],cp1[1][0],1.5])\n",
      "prx = np.array([cp2[0][0],cp2[1][0],1.5])\n",
      "print ptx\n",
      "print prx\n",
      "d = sqrt(dot((ptx-prx),(ptx-prx)))\n",
      "tau = d/0.3\n",
      "print d,tau"
     ],
     "language": "python",
     "metadata": {},
     "outputs": [
      {
       "output_type": "stream",
       "stream": "stdout",
       "text": [
        "[ 3.99350671  0.03857113  1.5       ]\n",
        "[ 20.4755338    0.09999644   1.5       ]\n",
        "16.4821415509 54.9404718364\n"
       ]
      }
     ],
     "prompt_number": 9
    },
    {
     "cell_type": "code",
     "collapsed": false,
     "input": [
      "S"
     ],
     "language": "python",
     "metadata": {},
     "outputs": [
      {
       "metadata": {},
       "output_type": "pyout",
       "prompt_number": 10,
       "text": [
        "Signatures : \n",
        "------------------\n",
        "124\n",
        "from : 1 to 14\n",
        "2 : 2\n",
        "3 : 56\n",
        "4 : 638\n",
        "5 : 4238\n"
       ]
      }
     ],
     "prompt_number": 10
    },
    {
     "cell_type": "code",
     "collapsed": false,
     "input": [
      "r=S.rays(ptx,prx)\n"
     ],
     "language": "python",
     "metadata": {},
     "outputs": [
      {
       "output_type": "stream",
       "stream": "stdout",
       "text": [
        "37 [1, 18]\n",
        "41 [14, 18]\n"
       ]
      }
     ],
     "prompt_number": 11
    },
    {
     "cell_type": "code",
     "collapsed": false,
     "input": [
      "r3 = r.to3D()"
     ],
     "language": "python",
     "metadata": {},
     "outputs": [],
     "prompt_number": 12
    },
    {
     "cell_type": "code",
     "collapsed": false,
     "input": [
      "r3.locbas(L)"
     ],
     "language": "python",
     "metadata": {},
     "outputs": [],
     "prompt_number": 13
    },
    {
     "cell_type": "code",
     "collapsed": false,
     "input": [
      "r3.fillinter(L)"
     ],
     "language": "python",
     "metadata": {},
     "outputs": [],
     "prompt_number": 14
    },
    {
     "cell_type": "code",
     "collapsed": false,
     "input": [
      "r3.show3(strucname='DLR')"
     ],
     "language": "python",
     "metadata": {},
     "outputs": [],
     "prompt_number": 15
    },
    {
     "cell_type": "code",
     "collapsed": false,
     "input": [
      "figsize(10,10)\n",
      "L.display['nodes']=False\n",
      "L.display['ednodes']=False\n",
      "L.display['title']='DLR Layout'\n",
      "r3.show(L)"
     ],
     "language": "python",
     "metadata": {},
     "outputs": [
      {
       "output_type": "display_data",
       "png": "[encoded data removed]",
       "text": [
        "<matplotlib.figure.Figure at 0xc2d730c>"
       ]
      }
     ],
     "prompt_number": 34
    },
    {
     "cell_type": "markdown",
     "metadata": {},
     "source": [
      "Les graphes $G_v$ et $G_i$ doivent \u00eatre segment\u00e9s au niveau des cycles.\n",
      "Chacun de ces graphes peut \u00eatre connect\u00e9 \u00e0 ses voisins \u00e0 l'aide de la commande "
     ]
    },
    {
     "cell_type": "code",
     "collapsed": false,
     "input": [
      "r[5]\n"
     ],
     "language": "python",
     "metadata": {},
     "outputs": [
      {
       "output_type": "pyout",
       "prompt_number": 16,
       "text": [
        "{'pt': array([[[  6.81729481,  -0.50529509,  -0.50529509,  -0.50529509,\n",
        "          -0.50529509,   6.66390326],\n",
        "        [  8.1218565 ,   1.34962684,   1.31233546,   7.93799484,\n",
        "           9.08853544,   8.65585042],\n",
        "        [ 12.32701667,   8.57367041,   8.40978054,  11.04311703,\n",
        "          10.3408959 ,  12.14236537],\n",
        "        [ 17.02654591,  13.92095831,  14.26980312,  17.0950662 ,\n",
        "          17.93291859,  17.62082747],\n",
        "        [ 17.83673853,  17.82984626,  17.13645882,  23.43324333,\n",
        "          23.43204882,  18.14774034]],\n",
        "\n",
        "       [[  0.97476444,   0.7006781 ,  -0.59548514,   0.30107134,\n",
        "          -0.2223825 ,  -0.85169477],\n",
        "        [  0.54230546,   0.97365682,  -0.85169477,   0.79362271,\n",
        "          -0.77903094,  -0.18760142],\n",
        "        [ -0.85169477,  -0.07527101,   0.14874716,   0.97476444,\n",
        "          -0.85169477,   0.97476444],\n",
        "        [  0.70618758,  -0.85169477,   0.97476444,   0.62171535,\n",
        "          -0.41119423,  -0.85169477],\n",
        "        [  0.97476444,  -0.28412603,   0.57068628,   0.25196874,\n",
        "          -0.09212644,  -0.6760278 ]],\n",
        "\n",
        "       [[  0.        ,   0.        ,   0.        ,   0.        ,\n",
        "           0.        ,   0.        ],\n",
        "        [  0.        ,   0.        ,   0.        ,   0.        ,\n",
        "           0.        ,   0.        ],\n",
        "        [  0.        ,   0.        ,   0.        ,   0.        ,\n",
        "           0.        ,   0.        ],\n",
        "        [  0.        ,   0.        ,   0.        ,   0.        ,\n",
        "           0.        ,   0.        ],\n",
        "        [  0.        ,   0.        ,   0.        ,   0.        ,\n",
        "           0.        ,   0.        ]]]),\n",
        " 'sig': array([[[ 64,  42,  42,  42,  42,  28],\n",
        "        [ 37,  58,  67,  37,  37,  37],\n",
        "        [ 68,  37,  37,  77,  34,  81],\n",
        "        [ 41,  68,  82,  41,  41,  33],\n",
        "        [ 91,  41,  41, 100, 100,  41]],\n",
        "\n",
        "       [[  1,   1,   1,   1,   1,   1],\n",
        "        [  2,   1,   1,   2,   2,   2],\n",
        "        [  1,   2,   2,   1,   1,   1],\n",
        "        [  2,   1,   1,   2,   2,   1],\n",
        "        [  1,   2,   2,   1,   1,   2]]])}"
       ]
      }
     ],
     "prompt_number": 16
    },
    {
     "cell_type": "code",
     "collapsed": false,
     "input": [
      "L.dGv"
     ],
     "language": "python",
     "metadata": {},
     "outputs": []
    },
    {
     "cell_type": "code",
     "collapsed": false,
     "input": [
      "nx.draw(L.dGv[0],L.dGv[0].pos)"
     ],
     "language": "python",
     "metadata": {},
     "outputs": []
    },
    {
     "cell_type": "code",
     "collapsed": false,
     "input": [
      "figsize(10,10)\n",
      "nx.draw(L.dGi[0],L.dGi[0].pos)"
     ],
     "language": "python",
     "metadata": {},
     "outputs": []
    },
    {
     "cell_type": "markdown",
     "metadata": {},
     "source": [
      "Dans l'exemple suivant, il y a clairement des noeuds inutiles. Le noeud (62,17) appartient au cycle 17 exclusivement. Il traduit \n",
      "la r\u00e9flexion vers le cycle 17 sur le segment 62.\n",
      "\n",
      "Les interactions de type transmission (nseg,cycle_in,cycle_out) ont vocation a appara\u00eetre dans le sens entrant et dans le sens sortant. \n",
      "\n",
      "Ce probl\u00e8me est maintenant r\u00e9solu\n"
     ]
    },
    {
     "cell_type": "code",
     "collapsed": false,
     "input": [
      "L.dGi[0].pos\n"
     ],
     "language": "python",
     "metadata": {},
     "outputs": []
    },
    {
     "cell_type": "code",
     "collapsed": false,
     "input": [
      "nx.neighbors(L.dGi[0],'(60, 0)')"
     ],
     "language": "python",
     "metadata": {},
     "outputs": []
    },
    {
     "cell_type": "code",
     "collapsed": false,
     "input": [
      "L.Gs.node[62]"
     ],
     "language": "python",
     "metadata": {},
     "outputs": []
    },
    {
     "cell_type": "code",
     "collapsed": false,
     "input": [
      "L.buildGt()\n"
     ],
     "language": "python",
     "metadata": {},
     "outputs": []
    },
    {
     "cell_type": "code",
     "collapsed": false,
     "input": [
      "fig=plt.figure(figsize=(10,10))\n",
      "fig,ax=L.showG('t',fig=fig)"
     ],
     "language": "python",
     "metadata": {},
     "outputs": []
    },
    {
     "cell_type": "markdown",
     "metadata": {},
     "source": [
      "\n",
      "\n",
      "The idea is to find meta signatures from the graph $ \\mathcal {G} _t $. These meta signatures are then used to construct reduced aggregates intercaction graphs $ \\mathcal {G} _i $"
     ]
    },
    {
     "cell_type": "code",
     "collapsed": false,
     "input": [
      "metasig=list(nx.all_simple_paths(L.Gt,source=1,target=14,cutoff=4))\n",
      "print metasig"
     ],
     "language": "python",
     "metadata": {},
     "outputs": []
    },
    {
     "cell_type": "code",
     "collapsed": false,
     "input": [
      "for meta in metasig: \n",
      "    Gitemp= nx.DiGraph()\n",
      "    for cycle in meta:\n",
      "        Gitemp = nx.compose(Gitemp,L.dGi[cycle])\n",
      "    Gitemp.pos = {}\n",
      "    for cycle in meta:\n",
      "        Gitemp.pos.update(L.dGi[cycle].pos)\n",
      "\n",
      "          \n",
      "    "
     ],
     "language": "python",
     "metadata": {},
     "outputs": []
    },
    {
     "cell_type": "code",
     "collapsed": false,
     "input": [
      "nx.draw(Gitemp,Gitemp.pos)"
     ],
     "language": "python",
     "metadata": {},
     "outputs": []
    },
    {
     "cell_type": "code",
     "collapsed": false,
     "input": [],
     "language": "python",
     "metadata": {},
     "outputs": []
    },
    {
     "cell_type": "code",
     "collapsed": false,
     "input": [
      "S"
     ],
     "language": "python",
     "metadata": {},
     "outputs": []
    },
    {
     "cell_type": "code",
     "collapsed": false,
     "input": [
      "S.info()"
     ],
     "language": "python",
     "metadata": {},
     "outputs": []
    },
    {
     "cell_type": "code",
     "collapsed": false,
     "input": [],
     "language": "python",
     "metadata": {},
     "outputs": []
    },
    {
     "cell_type": "code",
     "collapsed": false,
     "input": [
      "meta"
     ],
     "language": "python",
     "metadata": {},
     "outputs": []
    },
    {
     "cell_type": "code",
     "collapsed": false,
     "input": [],
     "language": "python",
     "metadata": {},
     "outputs": []
    }
   ],
   "metadata": {}
  }
 ]
}