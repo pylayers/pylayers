{
 "metadata": {
  "name": "Tri"
 },
 "nbformat": 3,
 "nbformat_minor": 0,
 "worksheets": [
  {
   "cells": [
    {
     "cell_type": "markdown",
     "metadata": {},
     "source": [
      "Utilisation de argsort. \n",
      "\n",
      "On souhaite trier un tableau selon un axe et appliquer ce tri \u00e0 un autre tableau "
     ]
    },
    {
     "cell_type": "code",
     "collapsed": false,
     "input": [
      "from scipy import rand"
     ],
     "language": "python",
     "metadata": {},
     "outputs": [],
     "prompt_number": 1
    },
    {
     "cell_type": "code",
     "collapsed": false,
     "input": [
      "Nint  = 5 \n",
      "Nray  = 10 \n",
      "alpha = rand(Nint,Nray)"
     ],
     "language": "python",
     "metadata": {},
     "outputs": [],
     "prompt_number": 2
    },
    {
     "cell_type": "code",
     "collapsed": false,
     "input": [
      "print alpha"
     ],
     "language": "python",
     "metadata": {},
     "outputs": [
      {
       "output_type": "stream",
       "stream": "stdout",
       "text": [
        "[[ 0.32836501  0.29241154  0.19653877  0.26176947  0.40954266  0.42546423\n",
        "   0.41138517  0.45845515  0.62600192  0.73354943]\n",
        " [ 0.8840068   0.93440578  0.53907354  0.49130238  0.82198964  0.32618583\n",
        "   0.88182112  0.98184602  0.30150238  0.23782735]\n",
        " [ 0.6392127   0.39819132  0.53448966  0.97959499  0.32543928  0.69902411\n",
        "   0.62951356  0.09886931  0.49565354  0.22810156]\n",
        " [ 0.03461468  0.0883023   0.82999349  0.2132728   0.23100497  0.07349768\n",
        "   0.00566004  0.54209956  0.54411704  0.43878457]\n",
        " [ 0.4908223   0.30614957  0.0192024   0.87417668  0.87873411  0.5504163\n",
        "   0.16815549  0.54924818  0.65042875  0.6491648 ]]\n"
       ]
      }
     ],
     "prompt_number": 3
    },
    {
     "cell_type": "markdown",
     "metadata": {},
     "source": [
      "On trie alpha avec argsort pour chaque rayon "
     ]
    },
    {
     "cell_type": "code",
     "collapsed": false,
     "input": [
      "k = argsort(alpha,axis=0)"
     ],
     "language": "python",
     "metadata": {},
     "outputs": [],
     "prompt_number": 5
    },
    {
     "cell_type": "code",
     "collapsed": false,
     "input": [
      "k"
     ],
     "language": "python",
     "metadata": {},
     "outputs": [
      {
       "output_type": "pyout",
       "prompt_number": 6,
       "text": [
        "array([[3, 3, 4, 3, 3, 3, 3, 2, 1, 2],\n",
        "       [0, 0, 0, 0, 2, 1, 4, 0, 2, 1],\n",
        "       [4, 4, 2, 1, 0, 0, 0, 3, 3, 3],\n",
        "       [2, 2, 1, 4, 1, 4, 2, 4, 0, 4],\n",
        "       [1, 1, 3, 2, 4, 2, 1, 1, 4, 0]])"
       ]
      }
     ],
     "prompt_number": 6
    },
    {
     "cell_type": "markdown",
     "metadata": {},
     "source": [
      "Une version tri\u00e9e de ce tableau peut s'obtenir ainsi"
     ]
    },
    {
     "cell_type": "code",
     "collapsed": false,
     "input": [
      "l = range(alpha.shape[1])\n",
      "alphat = alpha[k,l]"
     ],
     "language": "python",
     "metadata": {},
     "outputs": [],
     "prompt_number": 7
    },
    {
     "cell_type": "code",
     "collapsed": false,
     "input": [
      "l"
     ],
     "language": "python",
     "metadata": {},
     "outputs": [
      {
       "output_type": "pyout",
       "prompt_number": 9,
       "text": [
        "[0, 1, 2, 3, 4, 5, 6, 7, 8, 9]"
       ]
      }
     ],
     "prompt_number": 9
    },
    {
     "cell_type": "code",
     "collapsed": false,
     "input": [
      "dstack?"
     ],
     "language": "python",
     "metadata": {},
     "outputs": [],
     "prompt_number": 10
    },
    {
     "cell_type": "code",
     "collapsed": false,
     "input": [],
     "language": "python",
     "metadata": {},
     "outputs": []
    }
   ],
   "metadata": {}
  }
 ]
}